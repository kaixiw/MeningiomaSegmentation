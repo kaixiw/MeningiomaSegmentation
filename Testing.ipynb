{
 "cells": [
  {
   "cell_type": "code",
   "execution_count": 1,
   "metadata": {
    "collapsed": false
   },
   "outputs": [],
   "source": [
    "%matplotlib inline\n",
    "import os\n",
    "import numpy as np\n",
    "import nibabel as nib\n",
    "import matplotlib.pyplot as plt"
   ]
  },
  {
   "cell_type": "code",
   "execution_count": 2,
   "metadata": {
    "collapsed": true
   },
   "outputs": [],
   "source": [
    "filename = 'case_001_2.nii.gz'\n",
    "img = nib.load(filename)\n",
    "data = img.get_data()"
   ]
  },
  {
   "cell_type": "code",
   "execution_count": 6,
   "metadata": {
    "collapsed": false
   },
   "outputs": [],
   "source": [
    "def show_slices(slices):\n",
    "    \"\"\" Function to display row of image slices \"\"\"\n",
    "    fig, axes = plt.subplots(1, len(slices))\n",
    "    for i, slice in enumerate(slices):\n",
    "        axes[i].imshow(slice.T, cmap=\"gray\", origin=\"lower\")\n",
    "def get_slices(data, percent):\n",
    "    \"\"\" Function to get the corresponding slices \"\"\"\n",
    "    if(percent==1): percent=.99\n",
    "    shape = data.shape\n",
    "    slices = [data[int(shape[0]*percent),:,:],\n",
    "             data[:,int(shape[1]*percent),:],\n",
    "             data[:,:,int(shape[2]*percent)]]     \n",
    "    return slices\n",
    "'''\n",
    "plt.show()\n",
    "fig = plt.figure(figsize = (10,10))\n",
    "sp = fig.add_subplot(111)\n",
    "sp.set_aspect('auto')\n",
    "sp.imshow(data[:,10,:].T,cmap=\"gray\", origin=\"lower\")\n",
    "'''"
   ]
  },
  {
   "cell_type": "code",
   "execution_count": null,
   "metadata": {
    "collapsed": true
   },
   "outputs": [],
   "source": []
  },
  {
   "cell_type": "markdown",
   "metadata": {
    "collapsed": true
   },
   "source": [
    "## References\n",
    "### Diffusion Maps\n",
    "https://www.stat.cmu.edu/~cshalizi/350/lectures/15/lecture-15.pdf\n",
    "https://en.wikipedia.org/wiki/Diffusion_map\n",
    "http://stats.stackexchange.com/questions/15798/how-to-calculate-a-gaussian-kernel-effectively-in-numpy"
   ]
  }
 ],
 "metadata": {
  "kernelspec": {
   "display_name": "Python 2",
   "language": "python",
   "name": "python2"
  },
  "language_info": {
   "codemirror_mode": {
    "name": "ipython",
    "version": 2
   },
   "file_extension": ".py",
   "mimetype": "text/x-python",
   "name": "python",
   "nbconvert_exporter": "python",
   "pygments_lexer": "ipython2",
   "version": "2.7.6"
  }
 },
 "nbformat": 4,
 "nbformat_minor": 0
}
