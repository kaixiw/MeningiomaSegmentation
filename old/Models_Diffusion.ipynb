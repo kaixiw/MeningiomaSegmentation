{
 "cells": [
  {
   "cell_type": "code",
   "execution_count": 81,
   "metadata": {
    "collapsed": false,
    "deletable": true,
    "editable": true
   },
   "outputs": [],
   "source": [
    "%matplotlib inline\n",
    "import os\n",
    "import numpy as np\n",
    "import nibabel as nib\n",
    "import matplotlib.pyplot as plt\n",
    "from scipy.spatial.distance import pdist, squareform\n",
    "from scipy.linalg import eig\n",
    "import tensorflow as tf\n",
    "from sklearn import feature_extraction\n",
    "from keras.models import Sequential\n",
    "from keras.layers import Dense, Activation\n",
    "from keras.layers.convolutional import Conv2D\n",
    "from keras.layers.pooling import MaxPooling2D,AveragePooling2D, GlobalMaxPool2D\n",
    "import embed"
   ]
  },
  {
   "cell_type": "code",
   "execution_count": 77,
   "metadata": {
    "collapsed": false,
    "deletable": true,
    "editable": true
   },
   "outputs": [],
   "source": [
    "def get_data(filename):\n",
    "    img = nib.load(filename)\n",
    "    return img.get_data(), img.affine\n",
    "def scale(array):\n",
    "    return (array-np.min(array))/(np.max(array) - np.min(array))\n",
    "mri_data = get_data('case_001_2.nii.gz')[0].swapaxes(0,2)\n",
    "labelled_data = get_data('tumor.nii.gz')[0].swapaxes(0,2)\n",
    "shape = labelled_data.shape\n",
    "#mri_data = mri_data.reshape((shape[0],shape[1],shape[2],1))"
   ]
  },
  {
   "cell_type": "code",
   "execution_count": 79,
   "metadata": {
    "collapsed": false,
    "deletable": true,
    "editable": true
   },
   "outputs": [],
   "source": [
    "slice = mri_data[25]\n",
    "x,y = np.meshgrid(np.arange(slice.shape[0]),np.arange(slice.shape[1]))\n",
    "x = scale(x.reshape(x.size,1))\n",
    "y = scale(y.reshape(y.size,1))\n",
    "slice = scale(slice.reshape(slice.size,1)) \n",
    "X = np.column_stack((x,y,slice)).astype('float32')"
   ]
  },
  {
   "cell_type": "code",
   "execution_count": 76,
   "metadata": {
    "collapsed": false,
    "deletable": true,
    "editable": true
   },
   "outputs": [
    {
     "data": {
      "text/plain": [
       "(3041280, 1)"
      ]
     },
     "execution_count": 76,
     "metadata": {},
     "output_type": "execute_result"
    }
   ],
   "source": [
    "mri_data.shape"
   ]
  },
  {
   "cell_type": "code",
   "execution_count": 73,
   "metadata": {
    "collapsed": false,
    "deletable": true,
    "editable": true
   },
   "outputs": [
    {
     "ename": "ValueError",
     "evalue": "all the input array dimensions except for the concatenation axis must match exactly",
     "output_type": "error",
     "traceback": [
      "\u001b[1;31m---------------------------------------------------------------------------\u001b[0m",
      "\u001b[1;31mValueError\u001b[0m                                Traceback (most recent call last)",
      "\u001b[1;32m<ipython-input-73-c0a4b98ab725>\u001b[0m in \u001b[0;36m<module>\u001b[1;34m()\u001b[0m\n\u001b[1;32m----> 1\u001b[1;33m \u001b[0mX\u001b[0m \u001b[1;33m=\u001b[0m \u001b[0mnp\u001b[0m\u001b[1;33m.\u001b[0m\u001b[0mcolumn_stack\u001b[0m\u001b[1;33m(\u001b[0m\u001b[1;33m(\u001b[0m\u001b[0mx\u001b[0m\u001b[1;33m,\u001b[0m\u001b[0my\u001b[0m\u001b[1;33m,\u001b[0m\u001b[0mmri_data\u001b[0m\u001b[1;33m)\u001b[0m\u001b[1;33m)\u001b[0m\u001b[1;33m.\u001b[0m\u001b[0mastype\u001b[0m\u001b[1;33m(\u001b[0m\u001b[1;34m'float32'\u001b[0m\u001b[1;33m)\u001b[0m\u001b[1;33m\u001b[0m\u001b[0m\n\u001b[0m",
      "\u001b[1;32m/usr/local/lib/python2.7/dist-packages/numpy/lib/shape_base.pyc\u001b[0m in \u001b[0;36mcolumn_stack\u001b[1;34m(tup)\u001b[0m\n\u001b[0;32m    319\u001b[0m             \u001b[0marr\u001b[0m \u001b[1;33m=\u001b[0m \u001b[0marray\u001b[0m\u001b[1;33m(\u001b[0m\u001b[0marr\u001b[0m\u001b[1;33m,\u001b[0m \u001b[0mcopy\u001b[0m\u001b[1;33m=\u001b[0m\u001b[0mFalse\u001b[0m\u001b[1;33m,\u001b[0m \u001b[0msubok\u001b[0m\u001b[1;33m=\u001b[0m\u001b[0mTrue\u001b[0m\u001b[1;33m,\u001b[0m \u001b[0mndmin\u001b[0m\u001b[1;33m=\u001b[0m\u001b[1;36m2\u001b[0m\u001b[1;33m)\u001b[0m\u001b[1;33m.\u001b[0m\u001b[0mT\u001b[0m\u001b[1;33m\u001b[0m\u001b[0m\n\u001b[0;32m    320\u001b[0m         \u001b[0marrays\u001b[0m\u001b[1;33m.\u001b[0m\u001b[0mappend\u001b[0m\u001b[1;33m(\u001b[0m\u001b[0marr\u001b[0m\u001b[1;33m)\u001b[0m\u001b[1;33m\u001b[0m\u001b[0m\n\u001b[1;32m--> 321\u001b[1;33m     \u001b[1;32mreturn\u001b[0m \u001b[0m_nx\u001b[0m\u001b[1;33m.\u001b[0m\u001b[0mconcatenate\u001b[0m\u001b[1;33m(\u001b[0m\u001b[0marrays\u001b[0m\u001b[1;33m,\u001b[0m \u001b[1;36m1\u001b[0m\u001b[1;33m)\u001b[0m\u001b[1;33m\u001b[0m\u001b[0m\n\u001b[0m\u001b[0;32m    322\u001b[0m \u001b[1;33m\u001b[0m\u001b[0m\n\u001b[0;32m    323\u001b[0m \u001b[1;32mdef\u001b[0m \u001b[0mdstack\u001b[0m\u001b[1;33m(\u001b[0m\u001b[0mtup\u001b[0m\u001b[1;33m)\u001b[0m\u001b[1;33m:\u001b[0m\u001b[1;33m\u001b[0m\u001b[0m\n",
      "\u001b[1;31mValueError\u001b[0m: all the input array dimensions except for the concatenation axis must match exactly"
     ]
    }
   ],
   "source": [
    "X = np.column_stack((x,y,mri_data)).astype('float32')"
   ]
  },
  {
   "cell_type": "code",
   "execution_count": 3,
   "metadata": {
    "collapsed": false,
    "deletable": true,
    "editable": true
   },
   "outputs": [],
   "source": [
    "# output = 1 if slice has a tumor\n",
    "y_train = np.sum(labelled_data,axis=(1,2))>0"
   ]
  },
  {
   "cell_type": "code",
   "execution_count": 82,
   "metadata": {
    "collapsed": false,
    "deletable": true,
    "editable": true
   },
   "outputs": [
    {
     "ename": "ValueError",
     "evalue": "operands could not be broadcast together with shapes (92160,) (3,) (92160,) ",
     "output_type": "error",
     "traceback": [
      "\u001b[1;31m---------------------------------------------------------------------------\u001b[0m",
      "\u001b[1;31mValueError\u001b[0m                                Traceback (most recent call last)",
      "\u001b[1;32m<ipython-input-82-090aa780caa4>\u001b[0m in \u001b[0;36m<module>\u001b[1;34m()\u001b[0m\n\u001b[1;32m----> 1\u001b[1;33m \u001b[0membed\u001b[0m\u001b[1;33m.\u001b[0m\u001b[0mcompute_diffusion_map\u001b[0m\u001b[1;33m(\u001b[0m\u001b[0mX\u001b[0m\u001b[1;33m)\u001b[0m\u001b[1;33m\u001b[0m\u001b[0m\n\u001b[0m",
      "\u001b[1;32m/notebooks/embed.py\u001b[0m in \u001b[0;36mcompute_diffusion_map\u001b[1;34m(L, alpha, n_components, diffusion_time, skip_checks, overwrite)\u001b[0m\n\u001b[0;32m     65\u001b[0m     \u001b[1;32mif\u001b[0m \u001b[1;32mnot\u001b[0m \u001b[0mskip_checks\u001b[0m\u001b[1;33m:\u001b[0m\u001b[1;33m\u001b[0m\u001b[0m\n\u001b[0;32m     66\u001b[0m         \u001b[1;32mfrom\u001b[0m \u001b[0msklearn\u001b[0m\u001b[1;33m.\u001b[0m\u001b[0mmanifold\u001b[0m\u001b[1;33m.\u001b[0m\u001b[0mspectral_embedding_\u001b[0m \u001b[1;32mimport\u001b[0m \u001b[0m_graph_is_connected\u001b[0m\u001b[1;33m\u001b[0m\u001b[0m\n\u001b[1;32m---> 67\u001b[1;33m         \u001b[1;32mif\u001b[0m \u001b[1;32mnot\u001b[0m \u001b[0m_graph_is_connected\u001b[0m\u001b[1;33m(\u001b[0m\u001b[0mL\u001b[0m\u001b[1;33m)\u001b[0m\u001b[1;33m:\u001b[0m\u001b[1;33m\u001b[0m\u001b[0m\n\u001b[0m\u001b[0;32m     68\u001b[0m             \u001b[1;32mraise\u001b[0m \u001b[0mValueError\u001b[0m\u001b[1;33m(\u001b[0m\u001b[1;34m'Graph is disconnected'\u001b[0m\u001b[1;33m)\u001b[0m\u001b[1;33m\u001b[0m\u001b[0m\n\u001b[0;32m     69\u001b[0m \u001b[1;33m\u001b[0m\u001b[0m\n",
      "\u001b[1;32m/usr/local/lib/python2.7/dist-packages/sklearn/manifold/spectral_embedding_.pyc\u001b[0m in \u001b[0;36m_graph_is_connected\u001b[1;34m(graph)\u001b[0m\n\u001b[0;32m     84\u001b[0m     \u001b[1;32melse\u001b[0m\u001b[1;33m:\u001b[0m\u001b[1;33m\u001b[0m\u001b[0m\n\u001b[0;32m     85\u001b[0m         \u001b[1;31m# dense graph, find all connected components start from node 0\u001b[0m\u001b[1;33m\u001b[0m\u001b[1;33m\u001b[0m\u001b[0m\n\u001b[1;32m---> 86\u001b[1;33m         \u001b[1;32mreturn\u001b[0m \u001b[0m_graph_connected_component\u001b[0m\u001b[1;33m(\u001b[0m\u001b[0mgraph\u001b[0m\u001b[1;33m,\u001b[0m \u001b[1;36m0\u001b[0m\u001b[1;33m)\u001b[0m\u001b[1;33m.\u001b[0m\u001b[0msum\u001b[0m\u001b[1;33m(\u001b[0m\u001b[1;33m)\u001b[0m \u001b[1;33m==\u001b[0m \u001b[0mgraph\u001b[0m\u001b[1;33m.\u001b[0m\u001b[0mshape\u001b[0m\u001b[1;33m[\u001b[0m\u001b[1;36m0\u001b[0m\u001b[1;33m]\u001b[0m\u001b[1;33m\u001b[0m\u001b[0m\n\u001b[0m\u001b[0;32m     87\u001b[0m \u001b[1;33m\u001b[0m\u001b[0m\n\u001b[0;32m     88\u001b[0m \u001b[1;33m\u001b[0m\u001b[0m\n",
      "\u001b[1;32m/usr/local/lib/python2.7/dist-packages/sklearn/manifold/spectral_embedding_.pyc\u001b[0m in \u001b[0;36m_graph_connected_component\u001b[1;34m(graph, node_id)\u001b[0m\n\u001b[0;32m     60\u001b[0m             \u001b[1;32melse\u001b[0m\u001b[1;33m:\u001b[0m\u001b[1;33m\u001b[0m\u001b[0m\n\u001b[0;32m     61\u001b[0m                 \u001b[0mneighbors\u001b[0m \u001b[1;33m=\u001b[0m \u001b[0mgraph\u001b[0m\u001b[1;33m[\u001b[0m\u001b[0mi\u001b[0m\u001b[1;33m]\u001b[0m\u001b[1;33m\u001b[0m\u001b[0m\n\u001b[1;32m---> 62\u001b[1;33m             \u001b[0mnp\u001b[0m\u001b[1;33m.\u001b[0m\u001b[0mlogical_or\u001b[0m\u001b[1;33m(\u001b[0m\u001b[0mnodes_to_explore\u001b[0m\u001b[1;33m,\u001b[0m \u001b[0mneighbors\u001b[0m\u001b[1;33m,\u001b[0m \u001b[0mout\u001b[0m\u001b[1;33m=\u001b[0m\u001b[0mnodes_to_explore\u001b[0m\u001b[1;33m)\u001b[0m\u001b[1;33m\u001b[0m\u001b[0m\n\u001b[0m\u001b[0;32m     63\u001b[0m     \u001b[1;32mreturn\u001b[0m \u001b[0mconnected_nodes\u001b[0m\u001b[1;33m\u001b[0m\u001b[0m\n\u001b[0;32m     64\u001b[0m \u001b[1;33m\u001b[0m\u001b[0m\n",
      "\u001b[1;31mValueError\u001b[0m: operands could not be broadcast together with shapes (92160,) (3,) (92160,) "
     ]
    }
   ],
   "source": [
    "# From https://github.com/satra/mapalign/blob/master/mapalign/dist.py\n",
    "def compute_affinity(X, method='markov', eps=None):\n",
    "    import numpy as np\n",
    "    from sklearn.metrics import pairwise_distances\n",
    "    D = pairwise_distances(X, metric='euclidean')\n",
    "    if eps is None:\n",
    "        k = int(max(2, np.round(D.shape[0] * 0.01)))\n",
    "        eps = 2 * np.median(np.sort(D, axis=0)[k+1, :])**2\n",
    "    if method == 'markov':\n",
    "        affinity_matrix = np.exp(-(D * D) / eps)\n",
    "    elif method == 'cauchy':\n",
    "        affinity_matrix = 1./(D * D + eps)\n",
    "    return affinity_matrix"
   ]
  },
  {
   "cell_type": "code",
   "execution_count": 80,
   "metadata": {
    "collapsed": false,
    "deletable": true,
    "editable": true
   },
   "outputs": [
    {
     "ename": "MemoryError",
     "evalue": "",
     "output_type": "error",
     "traceback": [
      "\u001b[1;31m---------------------------------------------------------------------------\u001b[0m",
      "\u001b[1;31mMemoryError\u001b[0m                               Traceback (most recent call last)",
      "\u001b[1;32m<ipython-input-80-336ba3940d62>\u001b[0m in \u001b[0;36m<module>\u001b[1;34m()\u001b[0m\n\u001b[1;32m----> 1\u001b[1;33m \u001b[0mK\u001b[0m \u001b[1;33m=\u001b[0m \u001b[0mcompute_affinity\u001b[0m\u001b[1;33m(\u001b[0m\u001b[0mX\u001b[0m\u001b[1;33m)\u001b[0m\u001b[1;33m\u001b[0m\u001b[0m\n\u001b[0m",
      "\u001b[1;32m<ipython-input-1-9b9fe0b919e1>\u001b[0m in \u001b[0;36mcompute_affinity\u001b[1;34m(X, method, eps)\u001b[0m\n\u001b[0;32m      3\u001b[0m     \u001b[1;32mimport\u001b[0m \u001b[0mnumpy\u001b[0m \u001b[1;32mas\u001b[0m \u001b[0mnp\u001b[0m\u001b[1;33m\u001b[0m\u001b[0m\n\u001b[0;32m      4\u001b[0m     \u001b[1;32mfrom\u001b[0m \u001b[0msklearn\u001b[0m\u001b[1;33m.\u001b[0m\u001b[0mmetrics\u001b[0m \u001b[1;32mimport\u001b[0m \u001b[0mpairwise_distances\u001b[0m\u001b[1;33m\u001b[0m\u001b[0m\n\u001b[1;32m----> 5\u001b[1;33m     \u001b[0mD\u001b[0m \u001b[1;33m=\u001b[0m \u001b[0mpairwise_distances\u001b[0m\u001b[1;33m(\u001b[0m\u001b[0mX\u001b[0m\u001b[1;33m,\u001b[0m \u001b[0mmetric\u001b[0m\u001b[1;33m=\u001b[0m\u001b[1;34m'euclidean'\u001b[0m\u001b[1;33m)\u001b[0m\u001b[1;33m\u001b[0m\u001b[0m\n\u001b[0m\u001b[0;32m      6\u001b[0m     \u001b[1;32mif\u001b[0m \u001b[0meps\u001b[0m \u001b[1;32mis\u001b[0m \u001b[0mNone\u001b[0m\u001b[1;33m:\u001b[0m\u001b[1;33m\u001b[0m\u001b[0m\n\u001b[0;32m      7\u001b[0m         \u001b[0mk\u001b[0m \u001b[1;33m=\u001b[0m \u001b[0mint\u001b[0m\u001b[1;33m(\u001b[0m\u001b[0mmax\u001b[0m\u001b[1;33m(\u001b[0m\u001b[1;36m2\u001b[0m\u001b[1;33m,\u001b[0m \u001b[0mnp\u001b[0m\u001b[1;33m.\u001b[0m\u001b[0mround\u001b[0m\u001b[1;33m(\u001b[0m\u001b[0mD\u001b[0m\u001b[1;33m.\u001b[0m\u001b[0mshape\u001b[0m\u001b[1;33m[\u001b[0m\u001b[1;36m0\u001b[0m\u001b[1;33m]\u001b[0m \u001b[1;33m*\u001b[0m \u001b[1;36m0.01\u001b[0m\u001b[1;33m)\u001b[0m\u001b[1;33m)\u001b[0m\u001b[1;33m)\u001b[0m\u001b[1;33m\u001b[0m\u001b[0m\n",
      "\u001b[1;32m/usr/local/lib/python2.7/dist-packages/sklearn/metrics/pairwise.pyc\u001b[0m in \u001b[0;36mpairwise_distances\u001b[1;34m(X, Y, metric, n_jobs, **kwds)\u001b[0m\n\u001b[0;32m   1238\u001b[0m         \u001b[0mfunc\u001b[0m \u001b[1;33m=\u001b[0m \u001b[0mpartial\u001b[0m\u001b[1;33m(\u001b[0m\u001b[0mdistance\u001b[0m\u001b[1;33m.\u001b[0m\u001b[0mcdist\u001b[0m\u001b[1;33m,\u001b[0m \u001b[0mmetric\u001b[0m\u001b[1;33m=\u001b[0m\u001b[0mmetric\u001b[0m\u001b[1;33m,\u001b[0m \u001b[1;33m**\u001b[0m\u001b[0mkwds\u001b[0m\u001b[1;33m)\u001b[0m\u001b[1;33m\u001b[0m\u001b[0m\n\u001b[0;32m   1239\u001b[0m \u001b[1;33m\u001b[0m\u001b[0m\n\u001b[1;32m-> 1240\u001b[1;33m     \u001b[1;32mreturn\u001b[0m \u001b[0m_parallel_pairwise\u001b[0m\u001b[1;33m(\u001b[0m\u001b[0mX\u001b[0m\u001b[1;33m,\u001b[0m \u001b[0mY\u001b[0m\u001b[1;33m,\u001b[0m \u001b[0mfunc\u001b[0m\u001b[1;33m,\u001b[0m \u001b[0mn_jobs\u001b[0m\u001b[1;33m,\u001b[0m \u001b[1;33m**\u001b[0m\u001b[0mkwds\u001b[0m\u001b[1;33m)\u001b[0m\u001b[1;33m\u001b[0m\u001b[0m\n\u001b[0m\u001b[0;32m   1241\u001b[0m \u001b[1;33m\u001b[0m\u001b[0m\n\u001b[0;32m   1242\u001b[0m \u001b[1;33m\u001b[0m\u001b[0m\n",
      "\u001b[1;32m/usr/local/lib/python2.7/dist-packages/sklearn/metrics/pairwise.pyc\u001b[0m in \u001b[0;36m_parallel_pairwise\u001b[1;34m(X, Y, func, n_jobs, **kwds)\u001b[0m\n\u001b[0;32m   1081\u001b[0m     \u001b[1;32mif\u001b[0m \u001b[0mn_jobs\u001b[0m \u001b[1;33m==\u001b[0m \u001b[1;36m1\u001b[0m\u001b[1;33m:\u001b[0m\u001b[1;33m\u001b[0m\u001b[0m\n\u001b[0;32m   1082\u001b[0m         \u001b[1;31m# Special case to avoid picklability checks in delayed\u001b[0m\u001b[1;33m\u001b[0m\u001b[1;33m\u001b[0m\u001b[0m\n\u001b[1;32m-> 1083\u001b[1;33m         \u001b[1;32mreturn\u001b[0m \u001b[0mfunc\u001b[0m\u001b[1;33m(\u001b[0m\u001b[0mX\u001b[0m\u001b[1;33m,\u001b[0m \u001b[0mY\u001b[0m\u001b[1;33m,\u001b[0m \u001b[1;33m**\u001b[0m\u001b[0mkwds\u001b[0m\u001b[1;33m)\u001b[0m\u001b[1;33m\u001b[0m\u001b[0m\n\u001b[0m\u001b[0;32m   1084\u001b[0m \u001b[1;33m\u001b[0m\u001b[0m\n\u001b[0;32m   1085\u001b[0m     \u001b[1;31m# TODO: in some cases, backend='threading' may be appropriate\u001b[0m\u001b[1;33m\u001b[0m\u001b[1;33m\u001b[0m\u001b[0m\n",
      "\u001b[1;32m/usr/local/lib/python2.7/dist-packages/sklearn/metrics/pairwise.pyc\u001b[0m in \u001b[0;36meuclidean_distances\u001b[1;34m(X, Y, Y_norm_squared, squared, X_norm_squared)\u001b[0m\n\u001b[0;32m    243\u001b[0m         \u001b[0mYY\u001b[0m \u001b[1;33m=\u001b[0m \u001b[0mrow_norms\u001b[0m\u001b[1;33m(\u001b[0m\u001b[0mY\u001b[0m\u001b[1;33m,\u001b[0m \u001b[0msquared\u001b[0m\u001b[1;33m=\u001b[0m\u001b[0mTrue\u001b[0m\u001b[1;33m)\u001b[0m\u001b[1;33m[\u001b[0m\u001b[0mnp\u001b[0m\u001b[1;33m.\u001b[0m\u001b[0mnewaxis\u001b[0m\u001b[1;33m,\u001b[0m \u001b[1;33m:\u001b[0m\u001b[1;33m]\u001b[0m\u001b[1;33m\u001b[0m\u001b[0m\n\u001b[0;32m    244\u001b[0m \u001b[1;33m\u001b[0m\u001b[0m\n\u001b[1;32m--> 245\u001b[1;33m     \u001b[0mdistances\u001b[0m \u001b[1;33m=\u001b[0m \u001b[0msafe_sparse_dot\u001b[0m\u001b[1;33m(\u001b[0m\u001b[0mX\u001b[0m\u001b[1;33m,\u001b[0m \u001b[0mY\u001b[0m\u001b[1;33m.\u001b[0m\u001b[0mT\u001b[0m\u001b[1;33m,\u001b[0m \u001b[0mdense_output\u001b[0m\u001b[1;33m=\u001b[0m\u001b[0mTrue\u001b[0m\u001b[1;33m)\u001b[0m\u001b[1;33m\u001b[0m\u001b[0m\n\u001b[0m\u001b[0;32m    246\u001b[0m     \u001b[0mdistances\u001b[0m \u001b[1;33m*=\u001b[0m \u001b[1;33m-\u001b[0m\u001b[1;36m2\u001b[0m\u001b[1;33m\u001b[0m\u001b[0m\n\u001b[0;32m    247\u001b[0m     \u001b[0mdistances\u001b[0m \u001b[1;33m+=\u001b[0m \u001b[0mXX\u001b[0m\u001b[1;33m\u001b[0m\u001b[0m\n",
      "\u001b[1;32m/usr/local/lib/python2.7/dist-packages/sklearn/utils/extmath.pyc\u001b[0m in \u001b[0;36msafe_sparse_dot\u001b[1;34m(a, b, dense_output)\u001b[0m\n\u001b[0;32m    187\u001b[0m         \u001b[1;32mreturn\u001b[0m \u001b[0mret\u001b[0m\u001b[1;33m\u001b[0m\u001b[0m\n\u001b[0;32m    188\u001b[0m     \u001b[1;32melse\u001b[0m\u001b[1;33m:\u001b[0m\u001b[1;33m\u001b[0m\u001b[0m\n\u001b[1;32m--> 189\u001b[1;33m         \u001b[1;32mreturn\u001b[0m \u001b[0mfast_dot\u001b[0m\u001b[1;33m(\u001b[0m\u001b[0ma\u001b[0m\u001b[1;33m,\u001b[0m \u001b[0mb\u001b[0m\u001b[1;33m)\u001b[0m\u001b[1;33m\u001b[0m\u001b[0m\n\u001b[0m\u001b[0;32m    190\u001b[0m \u001b[1;33m\u001b[0m\u001b[0m\n\u001b[0;32m    191\u001b[0m \u001b[1;33m\u001b[0m\u001b[0m\n",
      "\u001b[1;31mMemoryError\u001b[0m: "
     ]
    }
   ],
   "source": [
    "K = compute_affinity(X)"
   ]
  },
  {
   "cell_type": "code",
   "execution_count": 22,
   "metadata": {
    "collapsed": false,
    "deletable": true,
    "editable": true
   },
   "outputs": [],
   "source": [
    "D = np.diag(np.sum(K,axis=1))"
   ]
  },
  {
   "cell_type": "code",
   "execution_count": 23,
   "metadata": {
    "collapsed": false,
    "deletable": true,
    "editable": true
   },
   "outputs": [],
   "source": [
    "D_1 = np.linalg.inv(D)"
   ]
  },
  {
   "cell_type": "code",
   "execution_count": 24,
   "metadata": {
    "collapsed": false,
    "deletable": true,
    "editable": true
   },
   "outputs": [],
   "source": [
    "K2= D_1.dot(K).dot(D_1)\n",
    "D2 = np.diag(np.sum(K2,axis=1))"
   ]
  },
  {
   "cell_type": "code",
   "execution_count": 25,
   "metadata": {
    "collapsed": true,
    "deletable": true,
    "editable": true
   },
   "outputs": [],
   "source": [
    "P = np.linalg.inv(D2).dot(K2)"
   ]
  },
  {
   "cell_type": "code",
   "execution_count": 49,
   "metadata": {
    "collapsed": false,
    "deletable": true,
    "editable": true
   },
   "outputs": [],
   "source": [
    "w,vl, vr =eig(P, left=True)"
   ]
  },
  {
   "cell_type": "code",
   "execution_count": 66,
   "metadata": {
    "collapsed": false,
    "deletable": true,
    "editable": true
   },
   "outputs": [
    {
     "data": {
      "text/plain": [
       "array([ -4.71903365e-85 +0.00000000e+00j,\n",
       "        -6.01196773e-85 +0.00000000e+00j,\n",
       "         1.19504752e-85 +0.00000000e+00j,\n",
       "         2.77576705e-85 +0.00000000e+00j,\n",
       "        -6.35303111e-83 +0.00000000e+00j,\n",
       "        -5.06136843e-73 +0.00000000e+00j,\n",
       "         5.81909412e-71 +0.00000000e+00j,\n",
       "         1.02667485e-70 -2.19822840e-70j,\n",
       "         1.02667485e-70 +2.19822840e-70j,\n",
       "         1.33130445e-69 +0.00000000e+00j,\n",
       "         2.37479233e-69 +0.00000000e+00j,\n",
       "        -1.01048733e-69 -2.95562012e-69j,\n",
       "        -1.01048733e-69 +2.95562012e-69j,\n",
       "        -4.60480912e-69 +0.00000000e+00j,\n",
       "        -1.18128496e-69 -8.35018318e-69j,\n",
       "        -1.18128496e-69 +8.35018318e-69j,\n",
       "         7.51152332e-69 -3.55871245e-69j,\n",
       "         7.51152332e-69 +3.55871245e-69j,\n",
       "        -1.61017085e-68 +0.00000000e+00j,\n",
       "        -9.32626685e-69 +0.00000000e+00j,\n",
       "         1.62191097e-60 +0.00000000e+00j,\n",
       "         1.65261217e-54 +0.00000000e+00j,\n",
       "         1.41163835e-53 -1.23214093e-53j,\n",
       "         1.41163835e-53 +1.23214093e-53j,\n",
       "        -2.17540209e-53 -5.78195249e-54j,\n",
       "        -2.17540209e-53 +5.78195249e-54j,\n",
       "        -6.86846260e-53 +0.00000000e+00j,\n",
       "         1.01123332e-52 +0.00000000e+00j,\n",
       "         8.63815281e-53 -4.90230297e-53j,\n",
       "         8.63815281e-53 +4.90230297e-53j,\n",
       "         1.54020224e-52 +0.00000000e+00j,\n",
       "        -1.36578625e-52 -7.90174859e-53j,\n",
       "        -1.36578625e-52 +7.90174859e-53j,\n",
       "         5.23171440e-53 -3.95852503e-52j,\n",
       "         5.23171440e-53 +3.95852503e-52j,\n",
       "         2.45882234e-48 +0.00000000e+00j,\n",
       "        -5.66991172e-39 -1.18145313e-37j,\n",
       "        -5.66991172e-39 +1.18145313e-37j,\n",
       "        -6.26741855e-37 -2.19623379e-37j,\n",
       "        -6.26741855e-37 +2.19623379e-37j,\n",
       "         1.48741364e-36 -5.10687863e-37j,\n",
       "         1.48741364e-36 +5.10687863e-37j,\n",
       "        -1.28740745e-36 -1.75451309e-36j,\n",
       "        -1.28740745e-36 +1.75451309e-36j,\n",
       "        -2.85755335e-36 -4.90338189e-37j,\n",
       "        -2.85755335e-36 +4.90338189e-37j,\n",
       "         2.99013287e-36 -3.90577279e-37j,\n",
       "         2.99013287e-36 +3.90577279e-37j,\n",
       "        -8.66582381e-36 +0.00000000e+00j,\n",
       "        -4.45999912e-36 -7.49876364e-36j,\n",
       "        -4.45999912e-36 +7.49876364e-36j,\n",
       "        -5.23031436e-26 +0.00000000e+00j,\n",
       "        -5.81081026e-21 +0.00000000e+00j,\n",
       "         5.54941150e-21 +0.00000000e+00j,\n",
       "        -6.48174872e-21 -1.25322095e-20j,\n",
       "        -6.48174872e-21 +1.25322095e-20j,\n",
       "        -2.03297866e-20 +0.00000000e+00j,\n",
       "         1.66018413e-20 -1.81988026e-20j,\n",
       "         1.66018413e-20 +1.81988026e-20j,\n",
       "        -3.69731003e-20 -2.85919010e-20j,\n",
       "        -3.69731003e-20 +2.85919010e-20j,\n",
       "         2.78708510e-20 -5.03784916e-20j,\n",
       "         2.78708510e-20 +5.03784916e-20j,\n",
       "        -3.02349655e-20 -8.32132811e-20j,\n",
       "        -3.02349655e-20 +8.32132811e-20j,\n",
       "         1.60344974e-19 +0.00000000e+00j,\n",
       "        -4.66200810e-18 +0.00000000e+00j,\n",
       "        -1.01601236e-18 +0.00000000e+00j,\n",
       "         1.07608264e-09 +0.00000000e+00j,\n",
       "         1.92961300e-04 +0.00000000e+00j,\n",
       "         4.37718641e-04 +0.00000000e+00j,\n",
       "         4.67868021e-04 +0.00000000e+00j,\n",
       "         3.99075580e-04 +0.00000000e+00j,\n",
       "         3.61942693e-04 +0.00000000e+00j,\n",
       "         5.20138097e-04 +0.00000000e+00j,\n",
       "         5.83952578e-04 +0.00000000e+00j,\n",
       "         6.08588612e-04 +0.00000000e+00j,\n",
       "         6.30642433e-04 +0.00000000e+00j,\n",
       "         3.20693704e-04 +0.00000000e+00j,\n",
       "         7.33652566e-04 +0.00000000e+00j,\n",
       "         7.56521569e-04 +0.00000000e+00j,\n",
       "         8.22892849e-04 +0.00000000e+00j,\n",
       "         8.91684040e-04 +0.00000000e+00j,\n",
       "         9.01089375e-04 +0.00000000e+00j,\n",
       "         1.04065973e-03 +0.00000000e+00j,\n",
       "         1.14017637e-03 +0.00000000e+00j,\n",
       "         1.15861250e-03 +0.00000000e+00j,\n",
       "         1.21841758e-03 +0.00000000e+00j,\n",
       "         1.28967794e-03 +0.00000000e+00j,\n",
       "         1.04778328e-03 +0.00000000e+00j,\n",
       "         1.51411354e-03 +0.00000000e+00j,\n",
       "         1.48496564e-03 +0.00000000e+00j,\n",
       "         7.84046127e-04 +0.00000000e+00j,\n",
       "         3.09839994e-03 +0.00000000e+00j,\n",
       "         2.05005810e-03 +0.00000000e+00j,\n",
       "         1.70079664e-03 +0.00000000e+00j,\n",
       "         1.66996603e-03 +0.00000000e+00j,\n",
       "         1.53378217e-03 +0.00000000e+00j,\n",
       "         1.42988029e-03 +0.00000000e+00j,\n",
       "         1.36932469e-03 +0.00000000e+00j,\n",
       "         2.85813697e-03 +0.00000000e+00j,\n",
       "         2.77466035e-03 +0.00000000e+00j,\n",
       "         2.47342876e-03 +0.00000000e+00j,\n",
       "         2.15188461e-03 +0.00000000e+00j,\n",
       "         2.12485328e-03 +0.00000000e+00j,\n",
       "         2.28392849e-03 +0.00000000e+00j,\n",
       "         2.00359557e-03 +0.00000000e+00j,\n",
       "         1.85495608e-03 +0.00000000e+00j,\n",
       "         3.19625464e-03 +0.00000000e+00j,\n",
       "         3.16778543e-03 +0.00000000e+00j,\n",
       "         3.68062151e-03 +0.00000000e+00j,\n",
       "         2.94877969e-03 +0.00000000e+00j,\n",
       "         2.73242895e-03 +0.00000000e+00j,\n",
       "         2.70064753e-03 +0.00000000e+00j,\n",
       "         2.54787185e-03 +0.00000000e+00j,\n",
       "         4.15654648e-03 +0.00000000e+00j,\n",
       "         3.98589401e-03 +0.00000000e+00j,\n",
       "         3.88888522e-03 +0.00000000e+00j,\n",
       "         3.54161750e-03 +0.00000000e+00j,\n",
       "         3.26944692e-03 +0.00000000e+00j,\n",
       "         5.08773051e-03 +0.00000000e+00j,\n",
       "         5.10055361e-03 +0.00000000e+00j,\n",
       "         5.10662770e-03 +0.00000000e+00j,\n",
       "         5.29913762e-03 +0.00000000e+00j,\n",
       "         4.88248331e-03 +0.00000000e+00j,\n",
       "         4.82595572e-03 +0.00000000e+00j,\n",
       "         5.41301030e-03 +0.00000000e+00j,\n",
       "         5.50910818e-03 +0.00000000e+00j,\n",
       "         5.73051424e-03 +0.00000000e+00j,\n",
       "         4.67768758e-03 +0.00000000e+00j,\n",
       "         5.84980174e-03 +0.00000000e+00j,\n",
       "         5.84167559e-03 +0.00000000e+00j,\n",
       "         6.12899362e-03 +0.00000000e+00j,\n",
       "         6.14384893e-03 +0.00000000e+00j,\n",
       "         4.37560656e-03 +0.00000000e+00j,\n",
       "         4.34928197e-03 +0.00000000e+00j,\n",
       "         4.26136597e-03 +0.00000000e+00j,\n",
       "         6.41794640e-03 +0.00000000e+00j,\n",
       "         6.47811021e-03 +0.00000000e+00j,\n",
       "         3.96547600e-03 +0.00000000e+00j,\n",
       "         6.63269011e-03 +0.00000000e+00j,\n",
       "         6.95678404e-03 +0.00000000e+00j,\n",
       "         7.08342879e-03 +0.00000000e+00j,\n",
       "         7.12599451e-03 +0.00000000e+00j,\n",
       "         7.29094840e-03 +0.00000000e+00j,\n",
       "         7.36519087e-03 +0.00000000e+00j,\n",
       "         7.65139100e-03 +0.00000000e+00j,\n",
       "         7.60558853e-03 +0.00000000e+00j,\n",
       "         7.63294198e-03 +0.00000000e+00j,\n",
       "         8.31446420e-03 +0.00000000e+00j,\n",
       "         8.35029323e-03 +0.00000000e+00j,\n",
       "         8.57572092e-03 +0.00000000e+00j,\n",
       "         8.72467101e-03 +0.00000000e+00j,\n",
       "         8.88420576e-03 +0.00000000e+00j,\n",
       "         8.99820953e-03 +0.00000000e+00j,\n",
       "         8.11333121e-03 +0.00000000e+00j,\n",
       "         9.31941393e-03 +0.00000000e+00j,\n",
       "         9.66018894e-03 +0.00000000e+00j,\n",
       "         9.68372256e-03 +0.00000000e+00j,\n",
       "         1.00566269e-02 +0.00000000e+00j,\n",
       "         1.02464673e-02 +0.00000000e+00j,\n",
       "         1.05312390e-02 +0.00000000e+00j,\n",
       "         1.09277545e-02 +0.00000000e+00j,\n",
       "         1.13459661e-02 +0.00000000e+00j,\n",
       "         1.18719408e-02 +0.00000000e+00j,\n",
       "         1.19717353e-02 +0.00000000e+00j,\n",
       "         1.24403438e-02 +0.00000000e+00j,\n",
       "         1.24705806e-02 +0.00000000e+00j,\n",
       "         1.27344991e-02 +0.00000000e+00j,\n",
       "         1.27832172e-02 +0.00000000e+00j,\n",
       "         1.30630723e-02 +0.00000000e+00j,\n",
       "         1.33612257e-02 +0.00000000e+00j,\n",
       "         1.33774430e-02 +0.00000000e+00j,\n",
       "         1.49325753e-02 +0.00000000e+00j,\n",
       "         1.50737209e-02 +0.00000000e+00j,\n",
       "         1.52847806e-02 +0.00000000e+00j,\n",
       "         1.59756840e-02 +0.00000000e+00j,\n",
       "         1.59351685e-02 +0.00000000e+00j,\n",
       "         1.57573028e-02 +0.00000000e+00j,\n",
       "         1.65753792e-02 +0.00000000e+00j,\n",
       "         1.70003974e-02 +0.00000000e+00j,\n",
       "         1.72901011e-02 +0.00000000e+00j,\n",
       "         1.76409556e-02 +0.00000000e+00j,\n",
       "         1.83694540e-02 +0.00000000e+00j,\n",
       "         1.87496525e-02 +0.00000000e+00j,\n",
       "         1.88644858e-02 +0.00000000e+00j,\n",
       "         2.03795029e-02 +0.00000000e+00j,\n",
       "         2.21055648e-02 +0.00000000e+00j,\n",
       "         2.21979681e-02 +0.00000000e+00j,\n",
       "         2.34410690e-02 +0.00000000e+00j,\n",
       "         2.30439961e-02 +0.00000000e+00j,\n",
       "         2.36117003e-02 +0.00000000e+00j,\n",
       "         2.07758871e-02 +0.00000000e+00j,\n",
       "         2.01438577e-02 +0.00000000e+00j,\n",
       "         2.46532016e-02 +0.00000000e+00j,\n",
       "         2.53139353e-02 +0.00000000e+00j,\n",
       "         2.58122400e-02 +0.00000000e+00j,\n",
       "         2.59521235e-02 +0.00000000e+00j,\n",
       "         2.65603225e-02 +0.00000000e+00j,\n",
       "         2.70712657e-02 +0.00000000e+00j,\n",
       "         2.78832638e-02 +0.00000000e+00j,\n",
       "         3.28791010e-02 +0.00000000e+00j,\n",
       "         3.31502289e-02 +0.00000000e+00j,\n",
       "         3.33137266e-02 +0.00000000e+00j,\n",
       "         3.20855206e-02 +0.00000000e+00j,\n",
       "         3.42482845e-02 +0.00000000e+00j,\n",
       "         3.06224432e-02 +0.00000000e+00j,\n",
       "         2.99111633e-02 +0.00000000e+00j,\n",
       "         2.92970151e-02 +0.00000000e+00j,\n",
       "         3.49426725e-02 +0.00000000e+00j,\n",
       "         3.76100369e-02 +0.00000000e+00j,\n",
       "         3.83146139e-02 +0.00000000e+00j,\n",
       "         3.97977138e-02 +0.00000000e+00j,\n",
       "         4.15018683e-02 +0.00000000e+00j,\n",
       "         4.51085922e-02 +0.00000000e+00j,\n",
       "         4.52913913e-02 +0.00000000e+00j,\n",
       "         4.33191153e-02 +0.00000000e+00j,\n",
       "         4.68525919e-02 +0.00000000e+00j,\n",
       "         4.83824692e-02 +0.00000000e+00j,\n",
       "         4.93708142e-02 +0.00000000e+00j,\n",
       "         5.02001734e-02 +0.00000000e+00j,\n",
       "         5.15758652e-02 +0.00000000e+00j,\n",
       "         5.23002844e-02 +0.00000000e+00j,\n",
       "         5.30457051e-02 +0.00000000e+00j,\n",
       "         5.43919264e-02 +0.00000000e+00j,\n",
       "         5.47450612e-02 +0.00000000e+00j,\n",
       "         4.07195001e-02 +0.00000000e+00j,\n",
       "         6.43082627e-02 +0.00000000e+00j,\n",
       "         6.30728539e-02 +0.00000000e+00j,\n",
       "         6.20547826e-02 +0.00000000e+00j,\n",
       "         6.02281964e-02 +0.00000000e+00j,\n",
       "         5.95558917e-02 +0.00000000e+00j,\n",
       "         6.67374543e-02 +0.00000000e+00j,\n",
       "         6.82234756e-02 +0.00000000e+00j,\n",
       "         6.84862689e-02 +0.00000000e+00j,\n",
       "         5.70714247e-02 +0.00000000e+00j,\n",
       "         5.54824223e-02 +0.00000000e+00j,\n",
       "         7.04502411e-02 +0.00000000e+00j,\n",
       "         7.17372474e-02 +0.00000000e+00j,\n",
       "         7.32625072e-02 +0.00000000e+00j,\n",
       "         7.45828899e-02 +0.00000000e+00j,\n",
       "         7.57372586e-02 +0.00000000e+00j,\n",
       "         7.75558270e-02 +0.00000000e+00j,\n",
       "         8.02623878e-02 +0.00000000e+00j,\n",
       "         8.27021103e-02 +0.00000000e+00j,\n",
       "         9.23536833e-02 +0.00000000e+00j,\n",
       "         8.84851604e-02 +0.00000000e+00j,\n",
       "         8.87187190e-02 +0.00000000e+00j,\n",
       "         8.97007464e-02 +0.00000000e+00j,\n",
       "         8.49402722e-02 +0.00000000e+00j,\n",
       "         8.56176050e-02 +0.00000000e+00j,\n",
       "         9.36098127e-02 +0.00000000e+00j,\n",
       "         8.08389266e-02 +0.00000000e+00j,\n",
       "         9.61057895e-02 +0.00000000e+00j,\n",
       "         9.98521337e-02 +0.00000000e+00j,\n",
       "         9.99382488e-02 +0.00000000e+00j,\n",
       "         1.04347614e-01 +0.00000000e+00j,\n",
       "         1.08737224e-01 +0.00000000e+00j,\n",
       "         1.12541731e-01 +0.00000000e+00j,\n",
       "         1.14158063e-01 +0.00000000e+00j,\n",
       "         1.22558670e-01 +0.00000000e+00j,\n",
       "         1.23049305e-01 +0.00000000e+00j,\n",
       "         1.27463891e-01 +0.00000000e+00j,\n",
       "         1.27006942e-01 +0.00000000e+00j,\n",
       "         1.29355045e-01 +0.00000000e+00j,\n",
       "         1.32977413e-01 +0.00000000e+00j,\n",
       "         1.36560233e-01 +0.00000000e+00j,\n",
       "         1.40432054e-01 +0.00000000e+00j,\n",
       "         1.52719898e-01 +0.00000000e+00j,\n",
       "         1.51140388e-01 +0.00000000e+00j,\n",
       "         1.54619125e-01 +0.00000000e+00j,\n",
       "         1.49928820e-01 +0.00000000e+00j,\n",
       "         1.61132103e-01 +0.00000000e+00j,\n",
       "         1.67443974e-01 +0.00000000e+00j,\n",
       "         1.71163392e-01 +0.00000000e+00j,\n",
       "         1.77855564e-01 +0.00000000e+00j,\n",
       "         1.79611216e-01 +0.00000000e+00j,\n",
       "         1.87882921e-01 +0.00000000e+00j,\n",
       "         1.91478123e-01 +0.00000000e+00j,\n",
       "         1.95341340e-01 +0.00000000e+00j,\n",
       "         2.07204674e-01 +0.00000000e+00j,\n",
       "         2.06858513e-01 +0.00000000e+00j,\n",
       "         2.17118906e-01 +0.00000000e+00j,\n",
       "         2.22597833e-01 +0.00000000e+00j,\n",
       "         2.37750757e-01 +0.00000000e+00j,\n",
       "         2.42642010e-01 +0.00000000e+00j,\n",
       "         2.52970208e-01 +0.00000000e+00j,\n",
       "         2.63550309e-01 +0.00000000e+00j,\n",
       "         2.68094670e-01 +0.00000000e+00j,\n",
       "         2.78977150e-01 +0.00000000e+00j,\n",
       "         2.80902323e-01 +0.00000000e+00j,\n",
       "         2.85669933e-01 +0.00000000e+00j,\n",
       "         2.87272422e-01 +0.00000000e+00j,\n",
       "         3.17861636e-01 +0.00000000e+00j,\n",
       "         3.36712143e-01 +0.00000000e+00j,\n",
       "         3.45018397e-01 +0.00000000e+00j,\n",
       "         3.50956753e-01 +0.00000000e+00j,\n",
       "         3.57491505e-01 +0.00000000e+00j,\n",
       "         3.63954661e-01 +0.00000000e+00j,\n",
       "         3.96212380e-01 +0.00000000e+00j,\n",
       "         3.93972052e-01 +0.00000000e+00j,\n",
       "         4.16812574e-01 +0.00000000e+00j,\n",
       "         4.21108073e-01 +0.00000000e+00j,\n",
       "         4.42967725e-01 +0.00000000e+00j,\n",
       "         4.78578295e-01 +0.00000000e+00j,\n",
       "         5.02601517e-01 +0.00000000e+00j,\n",
       "         5.72025599e-01 +0.00000000e+00j,\n",
       "         5.83968576e-01 +0.00000000e+00j,\n",
       "         6.01007734e-01 +0.00000000e+00j,\n",
       "         6.14940688e-01 +0.00000000e+00j,\n",
       "         6.19310798e-01 +0.00000000e+00j,\n",
       "         6.30118886e-01 +0.00000000e+00j,\n",
       "         6.85478268e-01 +0.00000000e+00j,\n",
       "         7.67157499e-01 +0.00000000e+00j,\n",
       "         8.18420820e-01 +0.00000000e+00j,\n",
       "         8.36048484e-01 +0.00000000e+00j,\n",
       "         8.58705067e-01 +0.00000000e+00j,\n",
       "         9.06372512e-01 +0.00000000e+00j,\n",
       "         9.48137923e-01 +0.00000000e+00j,   1.00000000e+00 +0.00000000e+00j])"
      ]
     },
     "execution_count": 66,
     "metadata": {},
     "output_type": "execute_result"
    }
   ],
   "source": [
    "w[::-1]"
   ]
  },
  {
   "cell_type": "code",
   "execution_count": 44,
   "metadata": {
    "collapsed": true,
    "deletable": true,
    "editable": true
   },
   "outputs": [],
   "source": [
    "# get embedding\n",
    "dim = 50\n",
    "emb = np.zeros((dim,dim))\n"
   ]
  },
  {
   "cell_type": "code",
   "execution_count": 4,
   "metadata": {
    "collapsed": false,
    "deletable": true,
    "editable": true
   },
   "outputs": [
    {
     "name": "stdout",
     "output_type": "stream",
     "text": [
      "_________________________________________________________________\n",
      "Layer (type)                 Output Shape              Param #   \n",
      "=================================================================\n",
      "conv2d_1 (Conv2D)            (None, 316, 284, 100)     2600      \n",
      "_________________________________________________________________\n",
      "activation_1 (Activation)    (None, 316, 284, 100)     0         \n",
      "_________________________________________________________________\n",
      "global_max_pooling2d_1 (Glob (None, 100)               0         \n",
      "_________________________________________________________________\n",
      "dense_1 (Dense)              (None, 30)                3030      \n",
      "_________________________________________________________________\n",
      "dense_2 (Dense)              (None, 1)                 31        \n",
      "=================================================================\n",
      "Total params: 5,661.0\n",
      "Trainable params: 5,661.0\n",
      "Non-trainable params: 0.0\n",
      "_________________________________________________________________\n",
      "None\n",
      "Epoch 1/1\n",
      "33/33 [==============================] - 61s - loss: 11.5945 - acc: 0.2727    \n"
     ]
    },
    {
     "data": {
      "text/plain": [
       "<keras.callbacks.History at 0x7f864f4b2350>"
      ]
     },
     "execution_count": 4,
     "metadata": {},
     "output_type": "execute_result"
    }
   ],
   "source": [
    "model = Sequential()\n",
    "model.add(Conv2D(100,(5,5),input_shape=(shape[1],shape[2],1)))\n",
    "model.add(Activation('relu'))\n",
    "model.add(GlobalMaxPool2D())\n",
    "#model.add(Dense(20,activation='relu'))\n",
    "model.add(Dense(30,activation='relu'))\n",
    "model.add(Dense(1,activation='softmax'))\n",
    "model.compile(optimizer='rmsprop',\n",
    "              loss='binary_crossentropy',metrics=['accuracy'])\n",
    "print model.summary()\n",
    "model.fit(mri_data,y_train,batch_size=2,epochs=1)"
   ]
  },
  {
   "cell_type": "code",
   "execution_count": null,
   "metadata": {
    "collapsed": false,
    "deletable": true,
    "editable": true
   },
   "outputs": [],
   "source": [
    "predict = model.predict(mri_data)"
   ]
  },
  {
   "cell_type": "code",
   "execution_count": null,
   "metadata": {
    "collapsed": false,
    "deletable": true,
    "editable": true
   },
   "outputs": [],
   "source": [
    "np"
   ]
  },
  {
   "cell_type": "code",
   "execution_count": 16,
   "metadata": {
    "collapsed": false,
    "deletable": true,
    "editable": true
   },
   "outputs": [
    {
     "data": {
      "text/plain": [
       "array([False, False, False, False, False, False, False, False, False,\n",
       "       False, False, False, False, False, False, False, False, False,\n",
       "       False, False, False, False,  True,  True,  True,  True,  True,\n",
       "        True,  True,  True,  True, False, False], dtype=bool)"
      ]
     },
     "execution_count": 16,
     "metadata": {},
     "output_type": "execute_result"
    }
   ],
   "source": [
    "y_train"
   ]
  }
 ],
 "metadata": {
  "kernelspec": {
   "display_name": "Python 3",
   "language": "python",
   "name": "python3"
  },
  "language_info": {
   "codemirror_mode": {
    "name": "ipython",
    "version": 3
   },
   "file_extension": ".py",
   "mimetype": "text/x-python",
   "name": "python",
   "nbconvert_exporter": "python",
   "pygments_lexer": "ipython3",
   "version": "3.5.2"
  }
 },
 "nbformat": 4,
 "nbformat_minor": 0
}
