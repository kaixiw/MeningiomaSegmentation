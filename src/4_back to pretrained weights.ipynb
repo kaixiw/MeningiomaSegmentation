{
 "cells": [
  {
   "cell_type": "markdown",
   "metadata": {
    "deletable": true,
    "editable": true
   },
   "source": [
    "# Modifying pretrained model"
   ]
  },
  {
   "cell_type": "code",
   "execution_count": 1,
   "metadata": {
    "collapsed": false
   },
   "outputs": [
    {
     "name": "stderr",
     "output_type": "stream",
     "text": [
      "Using TensorFlow backend.\n",
      "/usr/local/lib/python3.5/dist-packages/ipykernel/__main__.py:14: UserWarning: Update your `Conv2D` call to the Keras 2 API: `Conv2D(64, (3, 3), activation=\"relu\")`\n",
      "/usr/local/lib/python3.5/dist-packages/ipykernel/__main__.py:16: UserWarning: Update your `Conv2D` call to the Keras 2 API: `Conv2D(64, (3, 3), activation=\"relu\")`\n",
      "/usr/local/lib/python3.5/dist-packages/ipykernel/__main__.py:20: UserWarning: Update your `Conv2D` call to the Keras 2 API: `Conv2D(128, (3, 3), activation=\"relu\")`\n",
      "/usr/local/lib/python3.5/dist-packages/ipykernel/__main__.py:22: UserWarning: Update your `Conv2D` call to the Keras 2 API: `Conv2D(128, (3, 3), activation=\"relu\")`\n",
      "/usr/local/lib/python3.5/dist-packages/ipykernel/__main__.py:26: UserWarning: Update your `Conv2D` call to the Keras 2 API: `Conv2D(256, (3, 3), activation=\"relu\")`\n",
      "/usr/local/lib/python3.5/dist-packages/ipykernel/__main__.py:28: UserWarning: Update your `Conv2D` call to the Keras 2 API: `Conv2D(256, (3, 3), activation=\"relu\")`\n",
      "/usr/local/lib/python3.5/dist-packages/ipykernel/__main__.py:30: UserWarning: Update your `Conv2D` call to the Keras 2 API: `Conv2D(256, (3, 3), activation=\"relu\")`\n",
      "/usr/local/lib/python3.5/dist-packages/ipykernel/__main__.py:34: UserWarning: Update your `Conv2D` call to the Keras 2 API: `Conv2D(512, (3, 3), activation=\"relu\")`\n",
      "/usr/local/lib/python3.5/dist-packages/ipykernel/__main__.py:36: UserWarning: Update your `Conv2D` call to the Keras 2 API: `Conv2D(512, (3, 3), activation=\"relu\")`\n",
      "/usr/local/lib/python3.5/dist-packages/ipykernel/__main__.py:38: UserWarning: Update your `Conv2D` call to the Keras 2 API: `Conv2D(512, (3, 3), activation=\"relu\")`\n",
      "/usr/local/lib/python3.5/dist-packages/ipykernel/__main__.py:42: UserWarning: Update your `Conv2D` call to the Keras 2 API: `Conv2D(512, (3, 3), activation=\"relu\")`\n",
      "/usr/local/lib/python3.5/dist-packages/ipykernel/__main__.py:44: UserWarning: Update your `Conv2D` call to the Keras 2 API: `Conv2D(512, (3, 3), activation=\"relu\")`\n",
      "/usr/local/lib/python3.5/dist-packages/ipykernel/__main__.py:46: UserWarning: Update your `Conv2D` call to the Keras 2 API: `Conv2D(512, (3, 3), activation=\"relu\")`\n"
     ]
    }
   ],
   "source": [
    "from keras.models import Sequential\n",
    "from keras.layers.core import Flatten, Dense, Dropout\n",
    "from keras.layers.convolutional import Convolution2D, MaxPooling2D, ZeroPadding2D\n",
    "from keras.optimizers import SGD\n",
    "import cv2, numpy as np\n",
    "\n",
    "from keras import backend as K\n",
    "\n",
    "K.set_image_dim_ordering('th')\n",
    "\n",
    "def VGG_16(weights_path=None):\n",
    "    model = Sequential()\n",
    "    model.add(ZeroPadding2D((1,1),input_shape=(3,224,224)))\n",
    "    model.add(Convolution2D(64, 3, 3, activation='relu'))\n",
    "    model.add(ZeroPadding2D((1,1)))\n",
    "    model.add(Convolution2D(64, 3, 3, activation='relu'))\n",
    "    model.add(MaxPooling2D((2,2), strides=(2,2)))\n",
    "\n",
    "    model.add(ZeroPadding2D((1,1)))\n",
    "    model.add(Convolution2D(128, 3, 3, activation='relu'))\n",
    "    model.add(ZeroPadding2D((1,1)))\n",
    "    model.add(Convolution2D(128, 3, 3, activation='relu'))\n",
    "    model.add(MaxPooling2D((2,2), strides=(2,2)))\n",
    "\n",
    "    model.add(ZeroPadding2D((1,1)))\n",
    "    model.add(Convolution2D(256, 3, 3, activation='relu'))\n",
    "    model.add(ZeroPadding2D((1,1)))\n",
    "    model.add(Convolution2D(256, 3, 3, activation='relu'))\n",
    "    model.add(ZeroPadding2D((1,1)))\n",
    "    model.add(Convolution2D(256, 3, 3, activation='relu'))\n",
    "    model.add(MaxPooling2D((2,2), strides=(2,2)))\n",
    "\n",
    "    model.add(ZeroPadding2D((1,1)))\n",
    "    model.add(Convolution2D(512, 3, 3, activation='relu'))\n",
    "    model.add(ZeroPadding2D((1,1)))\n",
    "    model.add(Convolution2D(512, 3, 3, activation='relu'))\n",
    "    model.add(ZeroPadding2D((1,1)))\n",
    "    model.add(Convolution2D(512, 3, 3, activation='relu'))\n",
    "    model.add(MaxPooling2D((2,2), strides=(2,2)))\n",
    "\n",
    "    model.add(ZeroPadding2D((1,1)))\n",
    "    model.add(Convolution2D(512, 3, 3, activation='relu'))\n",
    "    model.add(ZeroPadding2D((1,1)))\n",
    "    model.add(Convolution2D(512, 3, 3, activation='relu'))\n",
    "    model.add(ZeroPadding2D((1,1)))\n",
    "    model.add(Convolution2D(512, 3, 3, activation='relu'))\n",
    "    model.add(MaxPooling2D((2,2), strides=(2,2)))\n",
    "\n",
    "    model.add(Flatten())\n",
    "    model.add(Dense(4096, activation='relu'))\n",
    "    model.add(Dropout(0.5))\n",
    "    model.add(Dense(4096, activation='relu'))\n",
    "    model.add(Dropout(0.5))\n",
    "    model.add(Dense(1000, activation='softmax'))\n",
    "\n",
    "    if weights_path:\n",
    "        model.load_weights(weights_path)\n",
    "\n",
    "    return model\n",
    "\n",
    "# Load existing model\n",
    "model = VGG_16('../vgg16_weights_th_dim_ordering_th_kernels.h5')\n",
    "sgd = SGD(lr=0.1, decay=1e-6, momentum=0.9, nesterov=True)\n",
    "model.compile(optimizer=sgd, loss='categorical_crossentropy')"
   ]
  },
  {
   "cell_type": "code",
   "execution_count": 2,
   "metadata": {
    "collapsed": false,
    "deletable": true,
    "editable": true,
    "scrolled": true
   },
   "outputs": [],
   "source": [
    "# https://github.com/jocicmarko/ultrasound-nerve-segmentation/blob/master/train.py#L19\n",
    "smooth = 1.\n",
    "def dice_coef(y_true, y_pred):\n",
    "    y_true_f = K.flatten(y_true)\n",
    "    y_pred_f = K.flatten(y_pred)\n",
    "    intersection = K.sum(y_true_f * y_pred_f)\n",
    "    return (2. * intersection + smooth) / (K.sum(y_true_f) + K.sum(y_pred_f) + smooth)\n",
    "\n",
    "\n",
    "def dice_coef_loss(y_true, y_pred):\n",
    "    return -dice_coef(y_true, y_pred)\n",
    "\n",
    "#model.compile(optimizer='rmsprop',loss='categorical_crossentropy',metrics=['categorical_crossentropy','accuracy'])\n",
    "          #loss=dice_coef_loss, metrics=[dice_coef,'accuracy'])"
   ]
  },
  {
   "cell_type": "code",
   "execution_count": 38,
   "metadata": {
    "collapsed": false
   },
   "outputs": [
    {
     "name": "stderr",
     "output_type": "stream",
     "text": [
      "/usr/local/lib/python3.5/dist-packages/ipykernel/__main__.py:8: UserWarning: Update your `Conv2D` call to the Keras 2 API: `Conv2D(128, (3, 3), activation=\"softmax\")`\n",
      "/usr/local/lib/python3.5/dist-packages/ipykernel/__main__.py:10: UserWarning: Update your `Conv2D` call to the Keras 2 API: `Conv2D(256, (3, 3), activation=\"softmax\")`\n",
      "/usr/local/lib/python3.5/dist-packages/ipykernel/__main__.py:12: UserWarning: Update your `Conv2D` call to the Keras 2 API: `Conv2D(64, (3, 3), activation=\"softmax\")`\n",
      "/usr/local/lib/python3.5/dist-packages/ipykernel/__main__.py:16: UserWarning: Update your `Conv2D` call to the Keras 2 API: `Conv2D(2, (3, 3), activation=\"softmax\")`\n"
     ]
    }
   ],
   "source": [
    "from keras.models import Model\n",
    "from keras.layers.convolutional import Conv2D\n",
    "m = Model(inputs = model.input, outputs=model.layers[3].output)\n",
    "m.trainable = False\n",
    "x = model.input\n",
    "x = m(x)\n",
    "x = ZeroPadding2D((1,1))(x)\n",
    "x = Conv2D(128, 3, 3, activation='softmax')(x)\n",
    "x = ZeroPadding2D((1,1))(x)\n",
    "x = Conv2D(256, 3, 3, activation='softmax')(x)\n",
    "x = ZeroPadding2D((1,1))(x)\n",
    "x = Conv2D(64, 3, 3, activation='softmax')(x)\n",
    "\n",
    "x = ZeroPadding2D((1,1))(x)\n",
    "\n",
    "x = Conv2D(2, 3, 3, activation='softmax')(x)\n",
    "m2  = Model(inputs = model.input, outputs = x)\n",
    "m2.compile(optimizer='rmsprop',loss='categorical_crossentropy',metrics=['categorical_crossentropy','accuracy'])\n",
    "          #loss=dice_coef_loss, metrics=[dice_coef,'accuracy'])"
   ]
  },
  {
   "cell_type": "code",
   "execution_count": 39,
   "metadata": {
    "collapsed": false
   },
   "outputs": [
    {
     "name": "stdout",
     "output_type": "stream",
     "text": [
      "_________________________________________________________________\n",
      "Layer (type)                 Output Shape              Param #   \n",
      "=================================================================\n",
      "zero_padding2d_1_input (Inpu (None, 3, 224, 224)       0         \n",
      "_________________________________________________________________\n",
      "model_13 (Model)             (None, 64, 224, 224)      38720     \n",
      "_________________________________________________________________\n",
      "zero_padding2d_23 (ZeroPaddi (None, 64, 226, 226)      0         \n",
      "_________________________________________________________________\n",
      "conv2d_22 (Conv2D)           (None, 128, 224, 224)     73856     \n",
      "_________________________________________________________________\n",
      "zero_padding2d_24 (ZeroPaddi (None, 128, 226, 226)     0         \n",
      "_________________________________________________________________\n",
      "conv2d_23 (Conv2D)           (None, 256, 224, 224)     295168    \n",
      "_________________________________________________________________\n",
      "zero_padding2d_25 (ZeroPaddi (None, 256, 226, 226)     0         \n",
      "_________________________________________________________________\n",
      "conv2d_24 (Conv2D)           (None, 64, 224, 224)      147520    \n",
      "_________________________________________________________________\n",
      "zero_padding2d_26 (ZeroPaddi (None, 64, 226, 226)      0         \n",
      "_________________________________________________________________\n",
      "conv2d_25 (Conv2D)           (None, 2, 224, 224)       1154      \n",
      "=================================================================\n",
      "Total params: 556,418\n",
      "Trainable params: 517,698\n",
      "Non-trainable params: 38,720\n",
      "_________________________________________________________________\n"
     ]
    }
   ],
   "source": [
    "m2.summary()"
   ]
  },
  {
   "cell_type": "code",
   "execution_count": 129,
   "metadata": {
    "collapsed": false,
    "deletable": true,
    "editable": true,
    "scrolled": true
   },
   "outputs": [
    {
     "name": "stdout",
     "output_type": "stream",
     "text": [
      "Epoch 31/35\n",
      "2/2 [==============================] - 0s - loss: 606.0085 - categorical_crossentropy: 606.0085 - acc: 0.0067\n",
      "Epoch 32/35\n",
      "2/2 [==============================] - 0s - loss: 606.0040 - categorical_crossentropy: 606.0040 - acc: 0.0056\n",
      "Epoch 33/35\n",
      "2/2 [==============================] - 0s - loss: 605.9999 - categorical_crossentropy: 605.9999 - acc: 0.0056\n",
      "Epoch 34/35\n",
      "2/2 [==============================] - 0s - loss: 605.9960 - categorical_crossentropy: 605.9959 - acc: 0.0056\n",
      "Epoch 35/35\n",
      "2/2 [==============================] - 0s - loss: 605.9915 - categorical_crossentropy: 605.9914 - acc: 0.0045\n"
     ]
    },
    {
     "data": {
      "text/plain": [
       "<keras.callbacks.History at 0x2ba68fcbcf28>"
      ]
     },
     "execution_count": 129,
     "metadata": {},
     "output_type": "execute_result"
    }
   ],
   "source": [
    "initial_epoch = 30\n",
    "epochs = 5\n",
    "m2.fit(x_train,y_train,epochs=initial_epoch+epochs,batch_size=5,initial_epoch=initial_epoch)\n",
    "#m.fit(preprocess(mri_data[:,:,20]),preprocess(labelled_data[:,:,20], False),epochs=20)"
   ]
  },
  {
   "cell_type": "code",
   "execution_count": 61,
   "metadata": {
    "collapsed": false,
    "deletable": true,
    "editable": true
   },
   "outputs": [],
   "source": [
    "# Get image data w/ nibabel\n",
    "import nibabel as nib\n",
    "def get_data(filename):\n",
    "    img = nib.load(filename)\n",
    "    return img.get_data()\n",
    "def scale(array):\n",
    "    return (array-np.min(array))/(np.max(array) - np.min(array))    \n",
    "mri_data = scale(get_data('../data/case_002_2.nii.gz')).transpose((2,0,1))\n",
    "labelled_data = get_data('../data/case_002_labels.nii.gz').transpose((2,0,1))"
   ]
  },
  {
   "cell_type": "code",
   "execution_count": 16,
   "metadata": {
    "collapsed": false,
    "deletable": true,
    "editable": true
   },
   "outputs": [],
   "source": [
    "from scipy.misc import imresize\n",
    "\n",
    "def preprocess(mri_slice,tile=True):\n",
    "    img0 = imresize(mri_slice, (224,224))\n",
    "    img0.resize((img0.shape[0],img0.shape[1],1))\n",
    "    if tile: img0 = np.tile(img0,3)\n",
    "    img0 = img0.transpose((2,0,1))\n",
    "    return np.expand_dims(img0, axis=0)\n",
    "def preprocess_label(labels):\n",
    "    labels = imresize(labels, (224,224))\n",
    "    pos = np.where(labels==1)\n",
    "    new_labels = np.zeros([labels.shape[0],labels.shape[1],2])\n",
    "    new_labels[:,:,0] = 1\n",
    "    new_labels[pos[0],pos[1],0] = 0\n",
    "    new_labels[pos[0],pos[1],1] = 1\n",
    "    new_labels = new_labels.transpose((2,0,1))\n",
    "    return np.expand_dims(new_labels, axis=0)\n"
   ]
  },
  {
   "cell_type": "code",
   "execution_count": 74,
   "metadata": {
    "collapsed": false,
    "deletable": true,
    "editable": true
   },
   "outputs": [
    {
     "data": {
      "text/plain": [
       "<tf.Tensor 'truediv_21:0' shape=() dtype=float64>"
      ]
     },
     "execution_count": 74,
     "metadata": {},
     "output_type": "execute_result"
    }
   ],
   "source": [
    "dice_coef(y_train[0],y_train[0])"
   ]
  },
  {
   "cell_type": "code",
   "execution_count": 127,
   "metadata": {
    "collapsed": false,
    "deletable": true,
    "editable": true
   },
   "outputs": [],
   "source": [
    "label_sums = labelled_data.sum(axis=(1,2))\n",
    "x_train_arr = []\n",
    "y_train_arr = [] \n",
    "#for mri_slice, labels in zip(mri_data, labelled_data):\n",
    "for mri_slice, labels in zip(mri_data[np.where(label_sums>0)], labelled_data[np.where(label_sums>0)]):\n",
    "    x_train_arr.append(preprocess(mri_slice))\n",
    "    y_train_arr.append(preprocess_label(labels))\n",
    "x_train = np.vstack(x_train_arr)\n",
    "y_train = np.vstack(y_train_arr)"
   ]
  },
  {
   "cell_type": "code",
   "execution_count": null,
   "metadata": {
    "collapsed": false,
    "deletable": true,
    "editable": true
   },
   "outputs": [],
   "source": [
    "np.histogram(img,bins=20)"
   ]
  },
  {
   "cell_type": "code",
   "execution_count": 46,
   "metadata": {
    "collapsed": true
   },
   "outputs": [],
   "source": [
    "m.save('model_4_128_256_64.h5')"
   ]
  },
  {
   "cell_type": "code",
   "execution_count": 15,
   "metadata": {
    "collapsed": false,
    "deletable": true,
    "editable": true
   },
   "outputs": [],
   "source": [
    "#img= model.predict(preprocess(mri_data[24])).squeeze()\n",
    "\n",
    "#img[np.argmax(img, axis=0)]\n",
    "pos = np.where(np.argmax(img, axis=0)>0)\n",
    "img0 = np.zeros((img.shape[1],img.shape[2]))\n",
    "img0[pos[0],pos[1]] = 1"
   ]
  },
  {
   "cell_type": "code",
   "execution_count": 104,
   "metadata": {
    "collapsed": false,
    "deletable": true,
    "editable": true
   },
   "outputs": [],
   "source": [
    "#np.amax(img,0).shape\n",
    "pos = np.where(np.argmax(img, axis=0)>0)\n",
    "img0 = np.zeros((img.shape[1],img.shape[2]))\n",
    "img0[pos[0],pos[1]] = img[1,pos[0],pos[1]]"
   ]
  },
  {
   "cell_type": "code",
   "execution_count": 114,
   "metadata": {
    "collapsed": false
   },
   "outputs": [
    {
     "data": {
      "text/plain": [
       "1.0"
      ]
     },
     "execution_count": 114,
     "metadata": {},
     "output_type": "execute_result"
    }
   ],
   "source": [
    "img0.max()"
   ]
  },
  {
   "cell_type": "code",
   "execution_count": 136,
   "metadata": {
    "collapsed": false,
    "deletable": true,
    "editable": true
   },
   "outputs": [
    {
     "data": {
      "image/png": "[encoded data removed]",
      "text/plain": [
       "<matplotlib.figure.Figure at 0x2ba68febb8d0>"
      ]
     },
     "metadata": {},
     "output_type": "display_data"
    }
   ],
   "source": [
    "%matplotlib inline\n",
    "import matplotlib.pyplot as plt\n",
    "\n",
    "predict_slide = 21\n",
    "img= m2.predict(preprocess(mri_data[predict_slide])).squeeze()\n",
    "pos = np.where(np.argmax(img, axis=0)>0)\n",
    "img1 = np.zeros((img.shape[1],img.shape[2]))\n",
    "#img1[pos[0],pos[1]] = 1\n",
    "img1[pos[0],pos[1]] = img[1,pos[0],pos[1]]\n",
    "img1/=img1.max()\n",
    "#img1=img[1]\n",
    "fig, ax = plt.subplots(1,1)\n",
    "#img1 = np.copy(img)\n",
    "#img1[img<1] = 0\n",
    "#ax.imshow(new_data)\n",
    "ax.imshow(imresize(mri_data[predict_slide], (224,224)),cmap=plt.cm.gray)\n",
    "#ax.imshow(img1)\n",
    "ax.imshow(np.ma.masked_where(img1<=0, img1),interpolation='none',cmap = plt.cm.Spectral_r,)\n",
    "\n",
    "if labelled_data[predict_slide].sum() > 0:\n",
    "    actual = imresize(labelled_data[predict_slide], (224,224))\n",
    "    ax.imshow(np.ma.masked_where(actual==0, actual),alpha=.2,cmap=plt.cm.autumn, interpolation='none')\n",
    "#plt.imshow(np.squeeze(img))"
   ]
  },
  {
   "cell_type": "code",
   "execution_count": null,
   "metadata": {
    "collapsed": false,
    "deletable": true,
    "editable": true
   },
   "outputs": [],
   "source": [
    "img  \n",
    "np.where((img>.5))[0]"
   ]
  },
  {
   "cell_type": "code",
   "execution_count": null,
   "metadata": {
    "collapsed": false,
    "deletable": true,
    "editable": true
   },
   "outputs": [],
   "source": [
    "plt.imshow(preprocess(labelled_data[22], False).squeeze())\n",
    "#plt.imshow(labelled_data[22])\n",
    "labelled_data[20].sum()"
   ]
  },
  {
   "cell_type": "code",
   "execution_count": null,
   "metadata": {
    "collapsed": false,
    "deletable": true,
    "editable": true
   },
   "outputs": [],
   "source": [
    "\n",
    "label_sums = labelled_data.sum(axis=(1,2))\n",
    "train_data = mri_data[np.where(label_sums==1)]\n",
    "for i in range(0, mri_data.shape[2]):\n",
    "    if skip_empty_slices:\n",
    "        if np.sum(labelled_data[:,:,i]) == 0: continue\n",
    "    train.append[i]\n",
    "md = imresize(mri_data.transpose((2,0,1)), (33,224,224))\n",
    "md.shape"
   ]
  },
  {
   "cell_type": "code",
   "execution_count": null,
   "metadata": {
    "collapsed": false,
    "deletable": true,
    "editable": true,
    "scrolled": true
   },
   "outputs": [],
   "source": [
    "# Get image data w/ nibabel\n",
    "import nibabel as nib\n",
    "def get_data(filename):\n",
    "    img = nib.load(filename)\n",
    "    return img.get_data()\n",
    "def scale(array):\n",
    "    return (array-np.min(array))/(np.max(array) - np.min(array))\n",
    "mri_data = scale(get_data('../data/case_001_2.nii.gz'))\n",
    "# Generate input to model (shape=(1,3,224,224))\n",
    "%matplotlib inline\n",
    "import matplotlib.pyplot as plt\n",
    "import matplotlib.image as mpimg\n",
    "from scipy.misc import imresize\n",
    "#plt.tight_layout()\n",
    "img0 = imresize(mri_data[:,:,24], (224,224))\n",
    "img = plt.imshow(img0) \n",
    "\n",
    "img0.resize((img0.shape[0],img0.shape[1],1))\n",
    "img0_rgb = np.tile(img0,3)\n",
    "img0_rgb = img0_rgb.transpose((2,0,1))\n",
    "img0_rgb = np.expand_dims(img0_rgb, axis=0)\n",
    "img0_rgb.shape"
   ]
  },
  {
   "cell_type": "code",
   "execution_count": null,
   "metadata": {
    "collapsed": false,
    "deletable": true,
    "editable": true
   },
   "outputs": [],
   "source": [
    "print(model.summary())"
   ]
  },
  {
   "cell_type": "code",
   "execution_count": null,
   "metadata": {
    "collapsed": false,
    "deletable": true,
    "editable": true
   },
   "outputs": [],
   "source": [
    "from keras.models import Model\n",
    "\n",
    "def get_intermediate(layer_name,inp):\n",
    "    intermediate_layer_model = Model(inputs=model.input,\n",
    "                                     outputs=model.get_layer(layer_name).output)\n",
    "    return np.squeeze(intermediate_layer_model.predict(inp))\n",
    "import math\n",
    "def show_range(data, plot_range):\n",
    "    #plot_range = range(0,derp.shape[0],10)\n",
    "    i = 0\n",
    "    \n",
    "    f, axarr = plt.subplots(math.ceil(len(plot_range)/3), 3)\n",
    "    f.set_size_inches([10,10])\n",
    "    for i in range(len(plot_range)):\n",
    "        if len(axarr.shape)==1:\n",
    "            ax = axarr[i]\n",
    "        else:\n",
    "            ax = axarr[int(i/3),i%3]\n",
    "        ax.imshow(data[plot_range[i]])\n",
    "        ax.set_title(\"Node %d\"%plot_range[i])\n",
    "    plt.show()"
   ]
  },
  {
   "cell_type": "code",
   "execution_count": null,
   "metadata": {
    "collapsed": false,
    "deletable": true,
    "editable": true
   },
   "outputs": [],
   "source": [
    "layer_name = 'conv2d_2'\n",
    "out_conv2d_2 = get_intermediate(layer_name,img0_rgb)\n",
    "show_range(out_conv2d_2, range(1,out_conv2d_2.shape[0],10))"
   ]
  },
  {
   "cell_type": "code",
   "execution_count": null,
   "metadata": {
    "collapsed": false,
    "deletable": true,
    "editable": true
   },
   "outputs": [],
   "source": [
    "import keras\n",
    "keras.backend.image_data_format()"
   ]
  }
 ],
 "metadata": {
  "kernelspec": {
   "display_name": "Python 3",
   "language": "python",
   "name": "python3"
  },
  "language_info": {
   "codemirror_mode": {
    "name": "ipython",
    "version": 3
   },
   "file_extension": ".py",
   "mimetype": "text/x-python",
   "name": "python",
   "nbconvert_exporter": "python",
   "pygments_lexer": "ipython3",
   "version": "3.5.2"
  }
 },
 "nbformat": 4,
 "nbformat_minor": 2
}
