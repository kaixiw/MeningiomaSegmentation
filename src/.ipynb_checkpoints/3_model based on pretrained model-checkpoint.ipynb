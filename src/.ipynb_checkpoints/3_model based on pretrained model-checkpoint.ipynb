{
 "cells": [
  {
   "cell_type": "markdown",
   "metadata": {
    "deletable": true,
    "editable": true
   },
   "source": [
    "# Modifying pretrained model"
   ]
  },
  {
   "cell_type": "code",
   "execution_count": 31,
   "metadata": {
    "collapsed": false,
    "deletable": true,
    "editable": true
   },
   "outputs": [
    {
     "name": "stdout",
     "output_type": "stream",
     "text": [
      "_________________________________________________________________\n",
      "Layer (type)                 Output Shape              Param #   \n",
      "=================================================================\n",
      "zero_padding2d_4 (ZeroPaddin (None, 3, 226, 226)       0         \n",
      "_________________________________________________________________\n",
      "conv2d_5 (Conv2D)            (None, 64, 224, 224)      1792      \n",
      "_________________________________________________________________\n",
      "zero_padding2d_5 (ZeroPaddin (None, 64, 226, 226)      0         \n",
      "_________________________________________________________________\n",
      "conv2d_6 (Conv2D)            (None, 32, 224, 224)      18464     \n",
      "_________________________________________________________________\n",
      "zero_padding2d_6 (ZeroPaddin (None, 32, 226, 226)      0         \n",
      "_________________________________________________________________\n",
      "conv2d_7 (Conv2D)            (None, 2, 224, 224)       578       \n",
      "_________________________________________________________________\n",
      "conv2d_8 (Conv2D)            (None, 2, 224, 224)       6         \n",
      "=================================================================\n",
      "Total params: 20,840\n",
      "Trainable params: 20,840\n",
      "Non-trainable params: 0\n",
      "_________________________________________________________________\n"
     ]
    },
    {
     "name": "stderr",
     "output_type": "stream",
     "text": [
      "/usr/local/lib/python3.5/dist-packages/ipykernel/__main__.py:13: UserWarning: Update your `Conv2D` call to the Keras 2 API: `Conv2D(64, (3, 3), activation=\"relu\")`\n",
      "/usr/local/lib/python3.5/dist-packages/ipykernel/__main__.py:21: UserWarning: Update your `Conv2D` call to the Keras 2 API: `Conv2D(32, (3, 3), activation=\"relu\")`\n",
      "/usr/local/lib/python3.5/dist-packages/ipykernel/__main__.py:24: UserWarning: Update your `Conv2D` call to the Keras 2 API: `Conv2D(2, (3, 3), activation=\"relu\")`\n",
      "/usr/local/lib/python3.5/dist-packages/ipykernel/__main__.py:25: UserWarning: Update your `Conv2D` call to the Keras 2 API: `Conv2D(2, (1, 1), activation=\"sigmoid\")`\n"
     ]
    }
   ],
   "source": [
    "from keras.models import Sequential\n",
    "from keras.layers import Flatten, Dense, Dropout\n",
    "from keras.layers import Conv2D, MaxPooling2D, ZeroPadding2D\n",
    "from keras.optimizers import SGD\n",
    "import cv2, numpy as np\n",
    "\n",
    "from keras import backend as K\n",
    "\n",
    "K.set_image_dim_ordering('th')\n",
    "\n",
    "model = Sequential()\n",
    "model.add(ZeroPadding2D((1,1),input_shape=(3,224,224)))\n",
    "model.add(Conv2D(64, 3, 3, activation='relu'))\n",
    "model.add(ZeroPadding2D((1,1)))\n",
    "'''\n",
    "model.add(Conv2D(128, 3, 3, activation='relu'))\n",
    "model.add(ZeroPadding2D((1,1)))\n",
    "model.add(Conv2D(64, 3, 3, activation='relu'))\n",
    "model.add(ZeroPadding2D((1,1)))\n",
    "'''\n",
    "model.add(Conv2D(32, 3, 3, activation='relu'))\n",
    "model.add(ZeroPadding2D((1,1)))\n",
    "\n",
    "model.add(Conv2D(2, 3, 3, activation='relu'))\n",
    "model.add(Conv2D(2, 1, 1, activation='sigmoid'))\n",
    "model.summary()\n",
    "\n",
    "# https://github.com/jocicmarko/ultrasound-nerve-segmentation/blob/master/train.py#L19\n",
    "smooth = 1.\n",
    "def dice_coef(y_true, y_pred):\n",
    "    y_true_f = K.flatten(y_true)\n",
    "    y_pred_f = K.flatten(y_pred)\n",
    "    intersection = K.sum(y_true_f * y_pred_f)\n",
    "    return (2. * intersection + smooth) / (K.sum(y_true_f) + K.sum(y_pred_f) + smooth)\n",
    "\n",
    "\n",
    "def dice_coef_loss(y_true, y_pred):\n",
    "    return -dice_coef(y_true, y_pred)\n",
    "\n",
    "model.compile(optimizer='rmsprop',loss='categorical_crossentropy',metrics=['categorical_crossentropy'])\n",
    "              #loss=dice_coef_loss, metrics=[dice_coef,'accuracy'])"
   ]
  },
  {
   "cell_type": "code",
   "execution_count": 32,
   "metadata": {
    "collapsed": false,
    "deletable": true,
    "editable": true
   },
   "outputs": [
    {
     "name": "stdout",
     "output_type": "stream",
     "text": [
      "Epoch 1/7\n",
      "9/9 [==============================] - 0s - loss: 640.0693 - categorical_crossentropy: 640.0693\n",
      "Epoch 2/7\n",
      "9/9 [==============================] - 0s - loss: 638.4871 - categorical_crossentropy: 638.4871\n",
      "Epoch 3/7\n",
      "9/9 [==============================] - 0s - loss: 637.9490 - categorical_crossentropy: 637.9490\n",
      "Epoch 4/7\n",
      "9/9 [==============================] - 0s - loss: 637.7826 - categorical_crossentropy: 637.7826\n",
      "Epoch 5/7\n",
      "9/9 [==============================] - 0s - loss: 637.7147 - categorical_crossentropy: 637.7147\n",
      "Epoch 6/7\n",
      "9/9 [==============================] - 0s - loss: 637.6809 - categorical_crossentropy: 637.6809\n",
      "Epoch 7/7\n",
      "9/9 [==============================] - 0s - loss: 637.6615 - categorical_crossentropy: 637.6615\n"
     ]
    },
    {
     "data": {
      "text/plain": [
       "<keras.callbacks.History at 0x2b5cf972b940>"
      ]
     },
     "execution_count": 32,
     "metadata": {},
     "output_type": "execute_result"
    }
   ],
   "source": [
    "model.fit(x_train,y_train,epochs=7)\n",
    "#m.fit(preprocess(mri_data[:,:,20]),preprocess(labelled_data[:,:,20], False),epochs=20)"
   ]
  },
  {
   "cell_type": "code",
   "execution_count": 3,
   "metadata": {
    "collapsed": false,
    "deletable": true,
    "editable": true
   },
   "outputs": [],
   "source": [
    "# Get image data w/ nibabel\n",
    "import nibabel as nib\n",
    "def get_data(filename):\n",
    "    img = nib.load(filename)\n",
    "    return img.get_data()\n",
    "def scale(array):\n",
    "    return (array-np.min(array))/(np.max(array) - np.min(array))    \n",
    "mri_data = scale(get_data('../data/case_001_2.nii.gz')).transpose((2,0,1))\n",
    "labelled_data = get_data('../data/case_001_labels.nii.gz').transpose((2,0,1))"
   ]
  },
  {
   "cell_type": "code",
   "execution_count": 4,
   "metadata": {
    "collapsed": false,
    "deletable": true,
    "editable": true
   },
   "outputs": [],
   "source": [
    "from scipy.misc import imresize\n",
    "\n",
    "def preprocess(mri_slice,tile=True):\n",
    "    img0 = imresize(mri_slice, (224,224))\n",
    "    img0.resize((img0.shape[0],img0.shape[1],1))\n",
    "    if tile: img0 = np.tile(img0,3)\n",
    "    img0 = img0.transpose((2,0,1))\n",
    "    return np.expand_dims(img0, axis=0)\n",
    "def preprocess_label(labels):\n",
    "    labels = imresize(labels, (224,224))\n",
    "    pos = np.where(labels==1)\n",
    "    new_labels = np.zeros([labels.shape[0],labels.shape[1],2])\n",
    "    new_labels[:,:,0] = 1\n",
    "    new_labels[pos[0],pos[1],0] = 0\n",
    "    new_labels[pos[0],pos[1],1] = 1\n",
    "    new_labels = new_labels.transpose((2,0,1))\n",
    "    return np.expand_dims(new_labels, axis=0)\n"
   ]
  },
  {
   "cell_type": "code",
   "execution_count": 74,
   "metadata": {
    "collapsed": false,
    "deletable": true,
    "editable": true
   },
   "outputs": [
    {
     "data": {
      "text/plain": [
       "<tf.Tensor 'truediv_21:0' shape=() dtype=float64>"
      ]
     },
     "execution_count": 74,
     "metadata": {},
     "output_type": "execute_result"
    }
   ],
   "source": [
    "dice_coef(y_train[0],y_train[0])"
   ]
  },
  {
   "cell_type": "code",
   "execution_count": 6,
   "metadata": {
    "collapsed": false,
    "deletable": true,
    "editable": true
   },
   "outputs": [],
   "source": [
    "label_sums = labelled_data.sum(axis=(1,2))\n",
    "x_train_arr = []\n",
    "y_train_arr = [] \n",
    "#for mri_slice, labels in zip(mri_data, labelled_data):\n",
    "for mri_slice, labels in zip(mri_data[np.where(label_sums>0)], labelled_data[np.where(label_sums>0)]):\n",
    "    x_train_arr.append(preprocess(mri_slice))\n",
    "    y_train_arr.append(preprocess_label(labels))\n",
    "x_train = np.vstack(x_train_arr)\n",
    "y_train = np.vstack(y_train_arr)"
   ]
  },
  {
   "cell_type": "code",
   "execution_count": null,
   "metadata": {
    "collapsed": false,
    "deletable": true,
    "editable": true
   },
   "outputs": [],
   "source": [
    "np.histogram(img,bins=20)"
   ]
  },
  {
   "cell_type": "code",
   "execution_count": 15,
   "metadata": {
    "collapsed": false,
    "deletable": true,
    "editable": true
   },
   "outputs": [],
   "source": [
    "#img= model.predict(preprocess(mri_data[24])).squeeze()\n",
    "\n",
    "#img[np.argmax(img, axis=0)]\n",
    "pos = np.where(np.argmax(img, axis=0)>0)\n",
    "img0 = np.zeros((img.shape[1],img.shape[2]))\n",
    "img0[pos[0],pos[1]] = 1"
   ]
  },
  {
   "cell_type": "code",
   "execution_count": 34,
   "metadata": {
    "collapsed": false
   },
   "outputs": [
    {
     "data": {
      "text/plain": [
       "0.0"
      ]
     },
     "execution_count": 34,
     "metadata": {},
     "output_type": "execute_result"
    }
   ],
   "source": []
  },
  {
   "cell_type": "code",
   "execution_count": 35,
   "metadata": {
    "collapsed": false,
    "deletable": true,
    "editable": true
   },
   "outputs": [
    {
     "data": {
      "text/plain": [
       "<matplotlib.image.AxesImage at 0x2b5d96553940>"
      ]
     },
     "execution_count": 35,
     "metadata": {},
     "output_type": "execute_result"
    },
    {
     "name": "stderr",
     "output_type": "stream",
     "text": [
      "/usr/local/lib/python3.5/dist-packages/matplotlib/colors.py:821: UserWarning: Warning: converting a masked element to nan.\n",
      "  dtype = np.min_scalar_type(value)\n",
      "/usr/local/lib/python3.5/dist-packages/numpy/ma/core.py:2766: UserWarning: Warning: converting a masked element to nan.\n",
      "  order=order, subok=True, ndmin=ndmin)\n",
      "/usr/local/lib/python3.5/dist-packages/matplotlib/colors.py:859: RuntimeWarning: invalid value encountered in true_divide\n",
      "  resdat /= (vmax - vmin)\n"
     ]
    },
    {
     "data": {
      "image/png": "[encoded data removed]",
      "text/plain": [
       "<matplotlib.figure.Figure at 0x2b5cf9718400>"
      ]
     },
     "metadata": {},
     "output_type": "display_data"
    }
   ],
   "source": [
    "%matplotlib inline\n",
    "import matplotlib.pyplot as plt\n",
    "\n",
    "predict_slide = 21\n",
    "img= model.predict(preprocess(mri_data[predict_slide])).squeeze()\n",
    "pos = np.where(np.argmax(img, axis=0)>0)\n",
    "img1 = np.zeros((img.shape[1],img.shape[2]))\n",
    "img1[pos[0],pos[1]] = 1\n",
    "fig, ax = plt.subplots(1,1)\n",
    "#img1 = np.copy(img)\n",
    "#img1[img<1] = 0\n",
    "#ax.imshow(new_data)\n",
    "#ax.imshow(imresize(mri_data[predict_slide], (224,224)),cmap=plt.cm.gray)\n",
    "ax.imshow(np.ma.masked_where(img1<1, img1),alpha=.7,cmap=plt.cm.autumn, interpolation='none')\n",
    "#plt.imshow(img1)\n",
    "#actual = imresize(mri_data[predict_slide], (224,224))\n",
    "\n",
    "#ax.imshow(np.ma.masked_where(actual==0, actual),alpha=.5,cmap=plt.cm.autumn, interpolation='none')\n",
    "#plt.imshow(np.squeeze(img))"
   ]
  },
  {
   "cell_type": "code",
   "execution_count": null,
   "metadata": {
    "collapsed": false,
    "deletable": true,
    "editable": true
   },
   "outputs": [],
   "source": [
    "img  \n",
    "np.where((img>.5))[0]"
   ]
  },
  {
   "cell_type": "code",
   "execution_count": null,
   "metadata": {
    "collapsed": false,
    "deletable": true,
    "editable": true
   },
   "outputs": [],
   "source": [
    "plt.imshow(preprocess(labelled_data[22], False).squeeze())\n",
    "#plt.imshow(labelled_data[22])\n",
    "labelled_data[20].sum()"
   ]
  },
  {
   "cell_type": "code",
   "execution_count": null,
   "metadata": {
    "collapsed": false,
    "deletable": true,
    "editable": true
   },
   "outputs": [],
   "source": [
    "\n",
    "label_sums = labelled_data.sum(axis=(1,2))\n",
    "train_data = mri_data[np.where(label_sums==1)]\n",
    "for i in range(0, mri_data.shape[2]):\n",
    "    if skip_empty_slices:\n",
    "        if np.sum(labelled_data[:,:,i]) == 0: continue\n",
    "    train.append[i]\n",
    "md = imresize(mri_data.transpose((2,0,1)), (33,224,224))\n",
    "md.shape"
   ]
  },
  {
   "cell_type": "code",
   "execution_count": null,
   "metadata": {
    "collapsed": false,
    "deletable": true,
    "editable": true,
    "scrolled": true
   },
   "outputs": [],
   "source": [
    "# Get image data w/ nibabel\n",
    "import nibabel as nib\n",
    "def get_data(filename):\n",
    "    img = nib.load(filename)\n",
    "    return img.get_data()\n",
    "def scale(array):\n",
    "    return (array-np.min(array))/(np.max(array) - np.min(array))\n",
    "mri_data = scale(get_data('../data/case_001_2.nii.gz'))\n",
    "# Generate input to model (shape=(1,3,224,224))\n",
    "%matplotlib inline\n",
    "import matplotlib.pyplot as plt\n",
    "import matplotlib.image as mpimg\n",
    "from scipy.misc import imresize\n",
    "#plt.tight_layout()\n",
    "img0 = imresize(mri_data[:,:,24], (224,224))\n",
    "img = plt.imshow(img0) \n",
    "\n",
    "img0.resize((img0.shape[0],img0.shape[1],1))\n",
    "img0_rgb = np.tile(img0,3)\n",
    "img0_rgb = img0_rgb.transpose((2,0,1))\n",
    "img0_rgb = np.expand_dims(img0_rgb, axis=0)\n",
    "img0_rgb.shape"
   ]
  },
  {
   "cell_type": "code",
   "execution_count": null,
   "metadata": {
    "collapsed": false,
    "deletable": true,
    "editable": true
   },
   "outputs": [],
   "source": [
    "print(model.summary())"
   ]
  },
  {
   "cell_type": "code",
   "execution_count": null,
   "metadata": {
    "collapsed": false,
    "deletable": true,
    "editable": true
   },
   "outputs": [],
   "source": [
    "from keras.models import Model\n",
    "\n",
    "def get_intermediate(layer_name,inp):\n",
    "    intermediate_layer_model = Model(inputs=model.input,\n",
    "                                     outputs=model.get_layer(layer_name).output)\n",
    "    return np.squeeze(intermediate_layer_model.predict(inp))\n",
    "import math\n",
    "def show_range(data, plot_range):\n",
    "    #plot_range = range(0,derp.shape[0],10)\n",
    "    i = 0\n",
    "    \n",
    "    f, axarr = plt.subplots(math.ceil(len(plot_range)/3), 3)\n",
    "    f.set_size_inches([10,10])\n",
    "    for i in range(len(plot_range)):\n",
    "        if len(axarr.shape)==1:\n",
    "            ax = axarr[i]\n",
    "        else:\n",
    "            ax = axarr[int(i/3),i%3]\n",
    "        ax.imshow(data[plot_range[i]])\n",
    "        ax.set_title(\"Node %d\"%plot_range[i])\n",
    "    plt.show()"
   ]
  },
  {
   "cell_type": "code",
   "execution_count": null,
   "metadata": {
    "collapsed": false,
    "deletable": true,
    "editable": true
   },
   "outputs": [],
   "source": [
    "layer_name = 'conv2d_2'\n",
    "out_conv2d_2 = get_intermediate(layer_name,img0_rgb)\n",
    "show_range(out_conv2d_2, range(1,out_conv2d_2.shape[0],10))"
   ]
  },
  {
   "cell_type": "code",
   "execution_count": null,
   "metadata": {
    "collapsed": false,
    "deletable": true,
    "editable": true
   },
   "outputs": [],
   "source": [
    "import keras\n",
    "keras.backend.image_data_format()"
   ]
  }
 ],
 "metadata": {
  "kernelspec": {
   "display_name": "Python 3",
   "language": "python",
   "name": "python3"
  },
  "language_info": {
   "codemirror_mode": {
    "name": "ipython",
    "version": 3
   },
   "file_extension": ".py",
   "mimetype": "text/x-python",
   "name": "python",
   "nbconvert_exporter": "python",
   "pygments_lexer": "ipython3",
   "version": "3.5.2"
  }
 },
 "nbformat": 4,
 "nbformat_minor": 2
}
