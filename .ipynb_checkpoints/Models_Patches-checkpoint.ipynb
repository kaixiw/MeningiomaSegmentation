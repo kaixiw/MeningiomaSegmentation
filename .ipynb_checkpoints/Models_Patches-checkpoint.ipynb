{
 "cells": [
  {
   "cell_type": "code",
   "execution_count": 1,
   "metadata": {
    "collapsed": false
   },
   "outputs": [
    {
     "name": "stderr",
     "output_type": "stream",
     "text": [
      "Using TensorFlow backend.\n"
     ]
    }
   ],
   "source": [
    "%matplotlib inline\n",
    "import os\n",
    "import numpy as np\n",
    "import nibabel as nib\n",
    "import matplotlib.pyplot as plt\n",
    "from scipy.spatial.distance import pdist, squareform\n",
    "import SimpleITK as sitk\n",
    "import tensorflow as tf\n",
    "from sklearn import feature_extraction\n",
    "from keras.models import Sequential\n",
    "from keras.layers import Dense, Activation"
   ]
  },
  {
   "cell_type": "markdown",
   "metadata": {},
   "source": [
    "# Network: Slice patches (2D->2D)"
   ]
  },
  {
   "cell_type": "code",
   "execution_count": 2,
   "metadata": {
    "collapsed": false
   },
   "outputs": [],
   "source": [
    "def get_data(filename):\n",
    "    img = nib.load(filename)\n",
    "    return img.get_data()\n",
    "mri_data = get_data('case_001_2.nii.gz')\n",
    "labelled_data = get_data('tumor.nii.gz')"
   ]
  },
  {
   "cell_type": "code",
   "execution_count": 3,
   "metadata": {
    "collapsed": false
   },
   "outputs": [],
   "source": [
    "slice_num = 25\n",
    "slice_size = (24,20)\n",
    "patches = feature_extraction.image.extract_patches_2d(mri_data[:,:,slice_num], slice_size)\n",
    "patches_output = feature_extraction.image.extract_patches_2d(labelled_data[:,:,slice_num], slice_size)"
   ]
  },
  {
   "cell_type": "code",
   "execution_count": 4,
   "metadata": {
    "collapsed": false
   },
   "outputs": [
    {
     "name": "stdout",
     "output_type": "stream",
     "text": [
      "Epoch 1/10\n",
      "79765/79765 [==============================] - 5s - loss: 1488.1752     \n",
      "Epoch 2/10\n",
      "79765/79765 [==============================] - 5s - loss: 0.0424     \n",
      "Epoch 3/10\n",
      "79765/79765 [==============================] - 5s - loss: 0.0424     \n",
      "Epoch 4/10\n",
      "79765/79765 [==============================] - 5s - loss: 0.0424     \n",
      "Epoch 5/10\n",
      "79765/79765 [==============================] - 6s - loss: 0.0424     \n",
      "Epoch 6/10\n",
      "79765/79765 [==============================] - 6s - loss: 0.0424     \n",
      "Epoch 7/10\n",
      "79765/79765 [==============================] - 5s - loss: 0.0424     \n",
      "Epoch 8/10\n",
      "79765/79765 [==============================] - 5s - loss: 0.0424     \n",
      "Epoch 9/10\n",
      "79765/79765 [==============================] - 5s - loss: 0.0424     \n",
      "Epoch 10/10\n",
      "79765/79765 [==============================] - 5s - loss: 0.0424     \n"
     ]
    },
    {
     "data": {
      "text/plain": [
       "<keras.callbacks.History at 0x7f688ee8cd50>"
      ]
     },
     "execution_count": 4,
     "metadata": {},
     "output_type": "execute_result"
    }
   ],
   "source": [
    "model = Sequential()\n",
    "model.add(Dense(20,input_shape=slice_size))\n",
    "model.add(Activation('relu'))\n",
    "\n",
    "model.compile(optimizer='rmsprop',\n",
    "              loss='mse')\n",
    "model.fit(patches,patches_output)"
   ]
  },
  {
   "cell_type": "code",
   "execution_count": 5,
   "metadata": {
    "collapsed": false
   },
   "outputs": [],
   "source": [
    "model.save('model_patches2Dto2D.h4')"
   ]
  },
  {
   "cell_type": "code",
   "execution_count": 7,
   "metadata": {
    "collapsed": false
   },
   "outputs": [
    {
     "data": {
      "text/plain": [
       "<matplotlib.image.AxesImage at 0x7f688ee4f990>"
      ]
     },
     "execution_count": 7,
     "metadata": {},
     "output_type": "execute_result"
    },
    {
     "data": {
      "image/png": "[encoded data removed]",
      "text/plain": [
       "<matplotlib.figure.Figure at 0x7f688ebd6190>"
      ]
     },
     "metadata": {},
     "output_type": "display_data"
    }
   ],
   "source": [
    "# Predicting on same data returns mostly zeros with blank data\n",
    "predict = model.predict(patches)\n",
    "new_data = feature_extraction.image.reconstruct_from_patches_2d(predict,(288,320))\n",
    "fig, ax = plt.subplots(1,1)\n",
    "\n",
    "#ax.imshow(mri_data[:,:,slice_num2],cmap=plt.cm.gray)\n",
    "#ax.imshow(np.ma.masked_where(labelled_data[:,:,slice_num2]==0, labelled_data[:,:,slice_num2]),alpha=.7,cmap=plt.cm.autumn, interpolation='none')\n",
    "ax.imshow(new_data)#np.ma.masked_where(new_data==0, new_data))"
   ]
  },
  {
   "cell_type": "code",
   "execution_count": 10,
   "metadata": {
    "collapsed": false
   },
   "outputs": [
    {
     "data": {
      "text/plain": [
       "masked_array(data =\n",
       " [[-- -- -- ..., -- -- --]\n",
       " [-- -- -- ..., -- -- --]\n",
       " [-- -- -- ..., -- -- --]\n",
       " ..., \n",
       " [-- -- -- ..., -- -- --]\n",
       " [-- -- -- ..., -- -- --]\n",
       " [-- -- -- ..., -- -- --]],\n",
       "             mask =\n",
       " [[ True  True  True ...,  True  True  True]\n",
       " [ True  True  True ...,  True  True  True]\n",
       " [ True  True  True ...,  True  True  True]\n",
       " ..., \n",
       " [ True  True  True ...,  True  True  True]\n",
       " [ True  True  True ...,  True  True  True]\n",
       " [ True  True  True ...,  True  True  True]],\n",
       "       fill_value = 1e+20)"
      ]
     },
     "execution_count": 10,
     "metadata": {},
     "output_type": "execute_result"
    }
   ],
   "source": [
    "np.ma.masked_where(new_data==0, new_data)"
   ]
  },
  {
   "cell_type": "markdown",
   "metadata": {},
   "source": [
    "# Network: Slice Patches (2D->1D)"
   ]
  },
  {
   "cell_type": "code",
   "execution_count": 12,
   "metadata": {
    "collapsed": false
   },
   "outputs": [],
   "source": [
    "def get_data(filename):\n",
    "    img = nib.load(filename)\n",
    "    return img.get_data(), img.affine\n",
    "mri_data,affine = get_data('case_001_2.nii.gz')\n",
    "labelled_data,_ = get_data('tumor.nii.gz')\n",
    "shape = labelled_data.shape"
   ]
  },
  {
   "cell_type": "code",
   "execution_count": 25,
   "metadata": {
    "collapsed": false
   },
   "outputs": [],
   "source": [
    "slice_num = 25\n",
    "slice_size = (24,20)\n",
    "patches = feature_extraction.image.extract_patches_2d(mri_data[:,:,slice_num], slice_size)\n",
    "patches = np.reshape(patches, (patches.shape[0],slice_size[0]*slice_size[1]))\n",
    "\n",
    "label_patches = feature_extraction.image.extract_patches_2d(labelled_data[:,:,slice_num2], slice_size)\n",
    "label_sums = np.reshape(np.sum(label_patches,axis=(1,2)), [patches_output.size,1])\n",
    "# normalize sums\n",
    "label_sums /= label_sums.max()\n",
    "\n",
    "patches_output = labelled_data[12:shape[0]-11,10:shape[1]-9,slice_num]\n",
    "patches_output = np.reshape(patches_output,[patches_output.size,1])\n",
    "patches_output = np.concatenate((patches_output, label_sums), axis=1)"
   ]
  },
  {
   "cell_type": "code",
   "execution_count": 26,
   "metadata": {
    "collapsed": false
   },
   "outputs": [
    {
     "name": "stdout",
     "output_type": "stream",
     "text": [
      "Epoch 1/10\n",
      "79765/79765 [==============================] - 3s - loss: 0.4382     \n",
      "Epoch 2/10\n",
      "79765/79765 [==============================] - 4s - loss: 0.4150     \n",
      "Epoch 3/10\n",
      "79765/79765 [==============================] - 4s - loss: 0.4150     \n",
      "Epoch 4/10\n",
      "79765/79765 [==============================] - 3s - loss: 0.4150     \n",
      "Epoch 5/10\n",
      "79765/79765 [==============================] - 3s - loss: 0.4150     \n",
      "Epoch 6/10\n",
      "79765/79765 [==============================] - 4s - loss: 0.4150     \n",
      "Epoch 7/10\n",
      "79765/79765 [==============================] - 4s - loss: 0.4150     \n",
      "Epoch 8/10\n",
      "79765/79765 [==============================] - 4s - loss: 0.4150     \n",
      "Epoch 9/10\n",
      "79765/79765 [==============================] - 4s - loss: 0.4150     \n",
      "Epoch 10/10\n",
      "79765/79765 [==============================] - 4s - loss: 0.4150     \n"
     ]
    },
    {
     "data": {
      "text/plain": [
       "<keras.callbacks.History at 0x7f687b1c6610>"
      ]
     },
     "execution_count": 26,
     "metadata": {},
     "output_type": "execute_result"
    }
   ],
   "source": [
    "model = Sequential()\n",
    "model.add(Dense(30,input_dim=(slice_size[0]*slice_size[1])))\n",
    "model.add(Activation('relu'))\n",
    "#model.add(Dense(20,activation='relu'))\n",
    "#model.add(Dense(10,activation='relu'))\n",
    "model.add(Dense(2,activation='relu'))\n",
    "model.compile(optimizer='rmsprop',\n",
    "              loss='binary_crossentropy')\n",
    "model.fit(patches,patches_output)"
   ]
  },
  {
   "cell_type": "code",
   "execution_count": 32,
   "metadata": {
    "collapsed": false
   },
   "outputs": [],
   "source": [
    "slice_num2 = 29\n",
    "patches2 = feature_extraction.image.extract_patches_2d(mri_data[:,:,slice_num2], slice_size)\n",
    "patches2 = np.reshape(patches, (patches.shape[0],slice_size[0]*slice_size[1]))\n",
    "\n",
    "#patches_output2 = labelled_data[12:shape[0]-11,10:shape[1]-9,slice_num]\n",
    "#patches_output2 = np.reshape(patches_output2,[patches_output.size,1])\n",
    "#print '\\n',model.evaluate(patches2,patches_output2)\n",
    "predict = model.predict(patches2)\n",
    "#new_data=predict[:,0].reshape(shape[0]-24+1, shape[1]-20+1)"
   ]
  },
  {
   "cell_type": "code",
   "execution_count": 17,
   "metadata": {
    "collapsed": true
   },
   "outputs": [],
   "source": [
    "test = feature_extraction.image.extract_patches_2d(labelled_data[:,:,slice_num2], slice_size)"
   ]
  },
  {
   "cell_type": "code",
   "execution_count": 30,
   "metadata": {
    "collapsed": false
   },
   "outputs": [
    {
     "data": {
      "text/plain": [
       "(79765,)"
      ]
     },
     "execution_count": 30,
     "metadata": {},
     "output_type": "execute_result"
    }
   ],
   "source": [
    "predict[:,0].shape"
   ]
  },
  {
   "cell_type": "code",
   "execution_count": 33,
   "metadata": {
    "collapsed": false
   },
   "outputs": [
    {
     "data": {
      "text/plain": [
       "<matplotlib.image.AxesImage at 0x7f687b0ebf10>"
      ]
     },
     "execution_count": 33,
     "metadata": {},
     "output_type": "execute_result"
    },
    {
     "name": "stderr",
     "output_type": "stream",
     "text": [
      "/usr/local/lib/python2.7/dist-packages/matplotlib/colors.py:941: UserWarning: Warning: converting a masked element to nan.\n",
      "  vmin = float(vmin)\n",
      "/usr/local/lib/python2.7/dist-packages/matplotlib/colors.py:942: UserWarning: Warning: converting a masked element to nan.\n",
      "  vmax = float(vmax)\n"
     ]
    },
    {
     "data": {
      "image/png": "[encoded data removed]",
      "text/plain": [
       "<matplotlib.figure.Figure at 0x7f687b0eb5d0>"
      ]
     },
     "metadata": {},
     "output_type": "display_data"
    }
   ],
   "source": [
    "fig, ax = plt.subplots(1,1)\n",
    "\n",
    "#ax.imshow(mri_data[:,:,slice_num2],cmap=plt.cm.gray)\n",
    "#ax.imshow(np.ma.masked_where(labelled_data[:,:,slice_num2]==0, labelled_data[:,:,slice_num2]),alpha=.7,cmap=plt.cm.autumn, interpolation='none')\n",
    "ax.imshow(np.ma.masked_where(new_data==0, new_data))"
   ]
  },
  {
   "cell_type": "code",
   "execution_count": 12,
   "metadata": {
    "collapsed": false
   },
   "outputs": [
    {
     "data": {
      "text/plain": [
       "0.0"
      ]
     },
     "execution_count": 12,
     "metadata": {},
     "output_type": "execute_result"
    }
   ],
   "source": [
    "np.sum(new_data)"
   ]
  },
  {
   "cell_type": "markdown",
   "metadata": {},
   "source": [
    "///////////////////////////////////////"
   ]
  },
  {
   "cell_type": "code",
   "execution_count": 3,
   "metadata": {
    "collapsed": false
   },
   "outputs": [],
   "source": [
    "def scale(array):\n",
    "    return (array-np.min(array))/(np.max(array) - np.min(array))"
   ]
  },
  {
   "cell_type": "code",
   "execution_count": 4,
   "metadata": {
    "collapsed": false
   },
   "outputs": [],
   "source": [
    "slice = data[100,:,:]\n",
    "x,y = np.meshgrid(np.arange(slice.shape[0]),np.arange(slice.shape[1]))\n",
    "x = scale(x.reshape(x.size,1))\n",
    "y = scale(y.reshape(y.size,1))\n",
    "slice = scale(slice.reshape(slice.size,1)) \n",
    "X = np.column_stack((x,y,slice)).astype('float32')\n",
    "X.shape"
   ]
  },
  {
   "cell_type": "code",
   "execution_count": 5,
   "metadata": {
    "collapsed": false
   },
   "outputs": [
    {
     "ename": "MemoryError",
     "evalue": "",
     "output_type": "error",
     "traceback": [
      "\u001b[1;31m---------------------------------------------------------------------------\u001b[0m",
      "\u001b[1;31mMemoryError\u001b[0m                               Traceback (most recent call last)",
      "\u001b[1;32m<ipython-input-5-7f3e0c1bae61>\u001b[0m in \u001b[0;36m<module>\u001b[1;34m()\u001b[0m\n\u001b[1;32m----> 1\u001b[1;33m \u001b[0mpairwise_dists\u001b[0m \u001b[1;33m=\u001b[0m \u001b[0msquareform\u001b[0m\u001b[1;33m(\u001b[0m\u001b[0mpdist\u001b[0m\u001b[1;33m(\u001b[0m\u001b[0mX\u001b[0m\u001b[1;33m,\u001b[0m \u001b[1;34m'euclidean'\u001b[0m\u001b[1;33m)\u001b[0m\u001b[1;33m)\u001b[0m\u001b[1;33m\u001b[0m\u001b[0m\n\u001b[0m\u001b[0;32m      2\u001b[0m \u001b[1;32mprint\u001b[0m \u001b[0mpairwise_dists\u001b[0m\u001b[1;33m.\u001b[0m\u001b[0msize\u001b[0m\u001b[1;33m\u001b[0m\u001b[0m\n\u001b[0;32m      3\u001b[0m \u001b[1;33m\u001b[0m\u001b[0m\n\u001b[0;32m      4\u001b[0m \u001b[0ms\u001b[0m \u001b[1;33m=\u001b[0m \u001b[1;36m1.5\u001b[0m\u001b[1;33m\u001b[0m\u001b[0m\n\u001b[0;32m      5\u001b[0m \u001b[0mK\u001b[0m \u001b[1;33m=\u001b[0m \u001b[0mnp\u001b[0m\u001b[1;33m.\u001b[0m\u001b[0mexp\u001b[0m\u001b[1;33m(\u001b[0m\u001b[0mnp\u001b[0m\u001b[1;33m.\u001b[0m\u001b[0msquare\u001b[0m\u001b[1;33m(\u001b[0m\u001b[0mpairwise_dists\u001b[0m\u001b[1;33m)\u001b[0m\u001b[1;33m)\u001b[0m\u001b[1;33m.\u001b[0m\u001b[0mreshape\u001b[0m\u001b[1;33m\u001b[0m\u001b[0m\n",
      "\u001b[1;32m/usr/lib/python2.7/dist-packages/scipy/spatial/distance.pyc\u001b[0m in \u001b[0;36msquareform\u001b[1;34m(X, force, checks)\u001b[0m\n\u001b[0;32m   1465\u001b[0m \u001b[1;33m\u001b[0m\u001b[0m\n\u001b[0;32m   1466\u001b[0m         \u001b[1;31m# Return the distance matrix.\u001b[0m\u001b[1;33m\u001b[0m\u001b[1;33m\u001b[0m\u001b[0m\n\u001b[1;32m-> 1467\u001b[1;33m         \u001b[0mM\u001b[0m \u001b[1;33m=\u001b[0m \u001b[0mM\u001b[0m \u001b[1;33m+\u001b[0m \u001b[0mM\u001b[0m\u001b[1;33m.\u001b[0m\u001b[0mtranspose\u001b[0m\u001b[1;33m(\u001b[0m\u001b[1;33m)\u001b[0m\u001b[1;33m\u001b[0m\u001b[0m\n\u001b[0m\u001b[0;32m   1468\u001b[0m         \u001b[1;32mreturn\u001b[0m \u001b[0mM\u001b[0m\u001b[1;33m\u001b[0m\u001b[0m\n\u001b[0;32m   1469\u001b[0m     \u001b[1;32melif\u001b[0m \u001b[0mlen\u001b[0m\u001b[1;33m(\u001b[0m\u001b[0ms\u001b[0m\u001b[1;33m)\u001b[0m \u001b[1;33m==\u001b[0m \u001b[1;36m2\u001b[0m\u001b[1;33m:\u001b[0m\u001b[1;33m\u001b[0m\u001b[0m\n",
      "\u001b[1;31mMemoryError\u001b[0m: "
     ]
    }
   ],
   "source": [
    "pairwise_dists = squareform(pdist(X, 'euclidean'))\n",
    "print pairwise_dists.size\n",
    "\n",
    "s = 1.5\n",
    "K = np.exp(np.square(pairwise_dists)).reshape"
   ]
  },
  {
   "cell_type": "code",
   "execution_count": 7,
   "metadata": {
    "collapsed": false
   },
   "outputs": [],
   "source": [
    "test = np.array([[1,2],[3,4]])\n",
    "np.sum(test,axis=)"
   ]
  },
  {
   "cell_type": "code",
   "execution_count": 14,
   "metadata": {
    "collapsed": false
   },
   "outputs": [
    {
     "data": {
      "text/plain": [
       "array([ 0.00569339,  0.108043  ,  0.38101912, ...,  0.        ,\n",
       "        2.        ,  2.        ])"
      ]
     },
     "execution_count": 14,
     "metadata": {},
     "output_type": "execute_result"
    }
   ],
   "source": [
    "pairwise_dists"
   ]
  },
  {
   "cell_type": "code",
   "execution_count": 22,
   "metadata": {
    "collapsed": false
   },
   "outputs": [
    {
     "data": {
      "text/plain": [
       "3457"
      ]
     },
     "execution_count": 22,
     "metadata": {},
     "output_type": "execute_result"
    }
   ],
   "source": [
    "np.sum(labelled_data[slice_num,:,:])"
   ]
  },
  {
   "cell_type": "markdown",
   "metadata": {
    "collapsed": true
   },
   "source": [
    "## References\n",
    "### Diffusion Maps\n",
    "https://www.stat.cmu.edu/~cshalizi/350/lectures/15/lecture-15.pdf\n",
    "https://en.wikipedia.org/wiki/Diffusion_map\n",
    "http://stats.stackexchange.com/questions/15798/how-to-calculate-a-gaussian-kernel-effectively-in-numpy\n",
    "\n",
    "https://arxiv.org/pdf/1506.07840.pdf"
   ]
  }
 ],
 "metadata": {
  "kernelspec": {
   "display_name": "Python 2",
   "language": "python",
   "name": "python2"
  },
  "language_info": {
   "codemirror_mode": {
    "name": "ipython",
    "version": 2
   },
   "file_extension": ".py",
   "mimetype": "text/x-python",
   "name": "python",
   "nbconvert_exporter": "python",
   "pygments_lexer": "ipython2",
   "version": "2.7.6"
  }
 },
 "nbformat": 4,
 "nbformat_minor": 0
}
