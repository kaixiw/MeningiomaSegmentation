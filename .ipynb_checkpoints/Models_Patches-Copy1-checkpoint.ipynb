{
 "cells": [
  {
   "cell_type": "code",
   "execution_count": 1,
   "metadata": {
    "collapsed": false
   },
   "outputs": [
    {
     "name": "stderr",
     "output_type": "stream",
     "text": [
      "Using TensorFlow backend.\n"
     ]
    }
   ],
   "source": [
    "%matplotlib inline\n",
    "import os\n",
    "import numpy as np\n",
    "import nibabel as nib\n",
    "import matplotlib.pyplot as plt\n",
    "from scipy.spatial.distance import pdist, squareform\n",
    "import SimpleITK as sitk\n",
    "import tensorflow as tf\n",
    "from sklearn import feature_extraction\n",
    "from keras.models import Sequential\n",
    "from keras.layers import Dense, Activation\n",
    "from keras import backend as K"
   ]
  },
  {
   "cell_type": "markdown",
   "metadata": {},
   "source": [
    "# Network: Slice patches (2D->2D)"
   ]
  },
  {
   "cell_type": "code",
   "execution_count": 85,
   "metadata": {
    "collapsed": false
   },
   "outputs": [],
   "source": [
    "def get_data(filename):\n",
    "    img = nib.load(filename)\n",
    "    return img.get_data()\n",
    "def scale(array):\n",
    "    return (array-np.min(array))/(np.max(array) - np.min(array))\n",
    "mri_data = scale(get_data('case_001_2.nii.gz'))\n",
    "labelled_data = get_data('tumor.nii.gz')\n",
    "slice_size = (24,20)"
   ]
  },
  {
   "cell_type": "code",
   "execution_count": 3,
   "metadata": {
    "collapsed": false
   },
   "outputs": [],
   "source": [
    "slice_num = 25\n",
    "patches = feature_extraction.image.extract_patches_2d(mri_data[:,:,slice_num], slice_size)\n",
    "patches_output = feature_extraction.image.extract_patches_2d(labelled_data[:,:,slice_num], slice_size)"
   ]
  },
  {
   "cell_type": "code",
   "execution_count": 3,
   "metadata": {
    "collapsed": false
   },
   "outputs": [],
   "source": [
    "# https://github.com/jocicmarko/ultrasound-nerve-segmentation/blob/master/train.py#L19\n",
    "smooth = 1.\n",
    "def dice_coef(y_true, y_pred):\n",
    "    y_true_f = K.flatten(y_true)\n",
    "    y_pred_f = K.flatten(y_pred)\n",
    "    intersection = K.sum(y_true_f * y_pred_f)\n",
    "    return (2. * intersection + smooth) / (K.sum(y_true_f) + K.sum(y_pred_f) + smooth)\n",
    "\n",
    "\n",
    "def dice_coef_loss(y_true, y_pred):\n",
    "    return -dice_coef(y_true, y_pred)"
   ]
  },
  {
   "cell_type": "code",
   "execution_count": 86,
   "metadata": {
    "collapsed": false
   },
   "outputs": [],
   "source": [
    "model = Sequential()\n",
    "model.add(Dense(30,input_shape=slice_size))\n",
    "model.add(Activation('relu'))\n",
    "model.add(Dense(20))\n",
    "model.compile(optimizer='rmsprop',\n",
    "              loss=dice_coef_loss, metrics=[dice_coef])"
   ]
  },
  {
   "cell_type": "code",
   "execution_count": 83,
   "metadata": {
    "collapsed": true
   },
   "outputs": [],
   "source": [
    "def train_on_slice(model, slice_num, slice_size,epochs=5, initial_epoch=0, skip_empty_patches=False):\n",
    "    patches = feature_extraction.image.extract_patches_2d(mri_data[:,:,slice_num], slice_size)\n",
    "    patches_output = feature_extraction.image.extract_patches_2d(labelled_data[:,:,slice_num], slice_size)\n",
    "    if skip_empty_patches: \n",
    "        sums = patches_output.sum(axis=(1,2))\n",
    "        model.fit(patches[np.where(sums>0)],patches_output[np.where(sums>0)],epochs=initial_epoch+epochs,\n",
    "                  initial_epoch=initial_epoch)\n",
    "    else:\n",
    "        model.fit(patches,patches_output,epochs=initial_epoch+epochs, initial_epoch=initial_epoch)"
   ]
  },
  {
   "cell_type": "code",
   "execution_count": 87,
   "metadata": {
    "collapsed": false
   },
   "outputs": [
    {
     "name": "stdout",
     "output_type": "stream",
     "text": [
      "training on slice 25\n",
      "Epoch 1/5\n",
      "79765/79765 [==============================] - 5s - loss: 0.1576 - dice_coef: -0.1576     \n",
      "Epoch 2/5\n",
      "79765/79765 [==============================] - 4s - loss: -0.1256 - dice_coef: 0.1256     \n",
      "Epoch 3/5\n",
      "79765/79765 [==============================] - 5s - loss: -0.0620 - dice_coef: 0.0620     \n",
      "Epoch 4/5\n",
      "79765/79765 [==============================] - 5s - loss: -0.0435 - dice_coef: 0.0435     \n",
      "Epoch 5/5\n",
      "79765/79765 [==============================] - 5s - loss: -0.0768 - dice_coef: 0.0768     \n"
     ]
    }
   ],
   "source": [
    "skip_empty_slices = True\n",
    "skip_empty_patches = False\n",
    "single_slice = True\n",
    "\n",
    "epochs = 5\n",
    "total_epochs = 0\n",
    "for i in range(0, mri_data.shape[2]):\n",
    "    if single_slice and i!=25: continue\n",
    "    if skip_empty_slices:\n",
    "        if np.sum(labelled_data[:,:,i]) == 0: continue\n",
    "    print \"training on slice\",i\n",
    "    train_on_slice(model, i, slice_size, initial_epoch=total_epochs, epochs=epochs, skip_empty_patches=skip_empty_patches)\n",
    "    total_epochs += epochs"
   ]
  },
  {
   "cell_type": "code",
   "execution_count": 65,
   "metadata": {
    "collapsed": false
   },
   "outputs": [],
   "source": [
    "model.save('model_patches_single_slice.h4')"
   ]
  },
  {
   "cell_type": "code",
   "execution_count": null,
   "metadata": {
    "collapsed": true
   },
   "outputs": [],
   "source": [
    "model.load_weights('model_patches_single_slice.h4')"
   ]
  },
  {
   "cell_type": "code",
   "execution_count": 75,
   "metadata": {
    "collapsed": false
   },
   "outputs": [
    {
     "data": {
      "text/plain": [
       "<matplotlib.image.AxesImage at 0x7f9364d48f90>"
      ]
     },
     "execution_count": 75,
     "metadata": {},
     "output_type": "execute_result"
    },
    {
     "data": {
      "image/png": "[encoded data removed]",
      "text/plain": [
       "<matplotlib.figure.Figure at 0x7f9364e9e490>"
      ]
     },
     "metadata": {},
     "output_type": "display_data"
    }
   ],
   "source": [
    "# Predicting on same data returns mostly zeros with blank data\n",
    "predict_num = 25\n",
    "patches = feature_extraction.image.extract_patches_2d(mri_data[:,:,predict_num], slice_size)\n",
    "predict = model.predict(patches)\n",
    "new_data = feature_extraction.image.reconstruct_from_patches_2d(predict,(288,320))\n",
    "\n",
    "fig, ax = plt.subplots(1,1)\n",
    "ax.imshow(new_data)\n",
    "#ax.imshow(mri_data[:,:,predict_num],cmap=plt.cm.gray)\n",
    "#ax.imshow(np.ma.masked_where(new_data==0, new_data))\n",
    "#ax.imshow(np.ma.masked_where(labelled_data[:,:,predict_num]==0, labelled_data[:,:,predict_num]),alpha=.5,cmap=plt.cm.autumn, interpolation='none')"
   ]
  },
  {
   "cell_type": "code",
   "execution_count": 48,
   "metadata": {
    "collapsed": false
   },
   "outputs": [
    {
     "data": {
      "text/plain": [
       "(256, 256, 27)"
      ]
     },
     "execution_count": 48,
     "metadata": {},
     "output_type": "execute_result"
    }
   ],
   "source": [
    "mri_data2 = scale(get_data('case_002_2.nii.gz'))\n",
    "#labelled_data2 = get_data('tumor2.nii.gz')\n",
    "mri_data2.shape"
   ]
  },
  {
   "cell_type": "code",
   "execution_count": 74,
   "metadata": {
    "collapsed": false
   },
   "outputs": [
    {
     "data": {
      "text/plain": [
       "<matplotlib.image.AxesImage at 0x7f9364bba350>"
      ]
     },
     "execution_count": 74,
     "metadata": {},
     "output_type": "execute_result"
    },
    {
     "data": {
      "image/png": "[encoded data removed]",
      "text/plain": [
       "<matplotlib.figure.Figure at 0x7f9364e00310>"
      ]
     },
     "metadata": {},
     "output_type": "display_data"
    }
   ],
   "source": [
    "predict_num = 24\n",
    "patches = feature_extraction.image.extract_patches_2d(mri_data2[:,:,predict_num], slice_size)\n",
    "predict = model.predict(patches)\n",
    "new_data = feature_extraction.image.reconstruct_from_patches_2d(predict,[mri_data2.shape[0],mri_data2.shape[1]])\n",
    "\n",
    "fig, ax = plt.subplots(1,1)\n",
    "ax.imshow(mri_data2[:,:,predict_num],cmap=plt.cm.gray)\n",
    "ax.imshow(np.ma.masked_where(new_data==0, new_data))\n",
    "ax.imshow(np.ma.masked_where(labelled_data2[:,:,predict_num]==0, labelled_data2[:,:,predict_num]),alpha=.5,cmap=plt.cm.autumn, interpolation='none')"
   ]
  },
  {
   "cell_type": "code",
   "execution_count": null,
   "metadata": {
    "collapsed": true
   },
   "outputs": [],
   "source": [
    "def predict(model, slices):\n",
    "    predictions = {}\n",
    "    for predict_num in slices:\n",
    "        patches = feature_extraction.image.extract_patches_2d(mri_data[:,:,predict_num], slice_size)\n",
    "        predict = model.predict(patches)\n",
    "        predictions[predict_num] = feature_extraction.image.reconstruct_from_patches_2d(predict,(288,320))\n",
    "    return predictions"
   ]
  },
  {
   "cell_type": "markdown",
   "metadata": {},
   "source": [
    "# Network: Slice Patches (2D->1D)"
   ]
  },
  {
   "cell_type": "code",
   "execution_count": 35,
   "metadata": {
    "collapsed": false
   },
   "outputs": [],
   "source": [
    "def get_data(filename):\n",
    "    img = nib.load(filename)\n",
    "    return img.get_data()\n",
    "def scale(array):\n",
    "    return (array-np.min(array))/(np.max(array) - np.min(array))\n",
    "mri_data = scale(get_data('case_001_2.nii.gz'))\n",
    "labelled_data = get_data('tumor.nii.gz')\n",
    "shape = labelled_data.shape"
   ]
  },
  {
   "cell_type": "code",
   "execution_count": 36,
   "metadata": {
    "collapsed": false
   },
   "outputs": [],
   "source": [
    "slice_num = 25\n",
    "slice_size = (24,20)\n",
    "patches = feature_extraction.image.extract_patches_2d(mri_data[:,:,slice_num], slice_size)\n",
    "patches = np.reshape(patches, (patches.shape[0],slice_size[0]*slice_size[1]))\n",
    "\n",
    "label_patches = feature_extraction.image.extract_patches_2d(labelled_data[:,:,slice_num], slice_size)\n",
    "label_sums = np.reshape(np.sum(label_patches,axis=(1,2)), [patches.shape[0],1])\n",
    "# normalize sums\n",
    "label_sums /= label_sums.max()\n",
    "\n",
    "patches_output = labelled_data[12:shape[0]-11,10:shape[1]-9,slice_num]\n",
    "patches_output = np.reshape(patches_output,[patches_output.size,1])\n",
    "patches_output = np.concatenate((patches_output, label_sums), axis=1)"
   ]
  },
  {
   "cell_type": "code",
   "execution_count": 37,
   "metadata": {
    "collapsed": false
   },
   "outputs": [
    {
     "name": "stdout",
     "output_type": "stream",
     "text": [
      "Epoch 1/10\n",
      "79765/79765 [==============================] - 3s - loss: -0.5108 - dice_coef: 0.5108     \n",
      "Epoch 2/10\n",
      "79765/79765 [==============================] - 3s - loss: -0.5099 - dice_coef: 0.5099     \n",
      "Epoch 3/10\n",
      "79765/79765 [==============================] - 3s - loss: -0.5132 - dice_coef: 0.5132     \n",
      "Epoch 4/10\n",
      "79765/79765 [==============================] - 3s - loss: -0.5056 - dice_coef: 0.5056     \n",
      "Epoch 5/10\n",
      "79765/79765 [==============================] - 3s - loss: -0.5072 - dice_coef: 0.5072     \n",
      "Epoch 6/10\n",
      "79765/79765 [==============================] - 3s - loss: -0.5059 - dice_coef: 0.5059     \n",
      "Epoch 7/10\n",
      "79765/79765 [==============================] - 3s - loss: -0.5084 - dice_coef: 0.5084     \n",
      "Epoch 8/10\n",
      "79765/79765 [==============================] - 3s - loss: -0.5041 - dice_coef: 0.5041     \n",
      "Epoch 9/10\n",
      "79765/79765 [==============================] - 3s - loss: -0.5157 - dice_coef: 0.5157     \n",
      "Epoch 10/10\n",
      "79765/79765 [==============================] - 3s - loss: -0.5041 - dice_coef: 0.5041     \n"
     ]
    },
    {
     "data": {
      "text/plain": [
       "<keras.callbacks.History at 0x7fc62bb32ed0>"
      ]
     },
     "execution_count": 37,
     "metadata": {},
     "output_type": "execute_result"
    }
   ],
   "source": [
    "model = Sequential()\n",
    "model.add(Dense(30,input_dim=(slice_size[0]*slice_size[1])))\n",
    "model.add(Activation('relu'))\n",
    "#model.add(Dense(20,activation='relu'))\n",
    "#model.add(Dense(10,activation='relu'))\n",
    "model.add(Dense(2,activation='relu'))\n",
    "model.compile(optimizer='rmsprop',\n",
    "              loss=dice_coef_loss, metrics=[dice_coef])\n",
    "model.fit(patches,patches_output)"
   ]
  },
  {
   "cell_type": "code",
   "execution_count": 38,
   "metadata": {
    "collapsed": false
   },
   "outputs": [],
   "source": [
    "slice_num2 = 29\n",
    "patches2 = feature_extraction.image.extract_patches_2d(mri_data[:,:,slice_num2], slice_size)\n",
    "patches2 = np.reshape(patches, (patches.shape[0],slice_size[0]*slice_size[1]))\n",
    "\n",
    "#patches_output2 = labelled_data[12:shape[0]-11,10:shape[1]-9,slice_num]\n",
    "#patches_output2 = np.reshape(patches_output2,[patches_output.size,1])\n",
    "#print '\\n',model.evaluate(patches2,patches_output2)\n",
    "predict = model.predict(patches2)\n",
    "#new_data=predict[:,0].reshape(shape[0]-24+1, shape[1]-20+1)"
   ]
  },
  {
   "cell_type": "code",
   "execution_count": 17,
   "metadata": {
    "collapsed": true
   },
   "outputs": [],
   "source": [
    "test = feature_extraction.image.extract_patches_2d(labelled_data[:,:,slice_num2], slice_size)"
   ]
  },
  {
   "cell_type": "code",
   "execution_count": 40,
   "metadata": {
    "collapsed": false
   },
   "outputs": [
    {
     "data": {
      "text/plain": [
       "(79765,)"
      ]
     },
     "execution_count": 40,
     "metadata": {},
     "output_type": "execute_result"
    }
   ],
   "source": [
    "predict[:,0].shape"
   ]
  },
  {
   "cell_type": "code",
   "execution_count": 39,
   "metadata": {
    "collapsed": false,
    "scrolled": true
   },
   "outputs": [
    {
     "data": {
      "text/plain": [
       "<matplotlib.image.AxesImage at 0x7fc622b4c6d0>"
      ]
     },
     "execution_count": 39,
     "metadata": {},
     "output_type": "execute_result"
    },
    {
     "name": "stderr",
     "output_type": "stream",
     "text": [
      "/usr/local/lib/python2.7/dist-packages/matplotlib/colors.py:941: UserWarning: Warning: converting a masked element to nan.\n",
      "  vmin = float(vmin)\n",
      "/usr/local/lib/python2.7/dist-packages/matplotlib/colors.py:942: UserWarning: Warning: converting a masked element to nan.\n",
      "  vmax = float(vmax)\n"
     ]
    },
    {
     "data": {
      "image/png": "[encoded data removed]",
      "text/plain": [
       "<matplotlib.figure.Figure at 0x7fc622b4c690>"
      ]
     },
     "metadata": {},
     "output_type": "display_data"
    }
   ],
   "source": [
    "new_data = np.zeros(shape[:2])\n",
    "new_data[12:shape[0]-11,10:shape[1]-9] = predict[:,1].reshape(shape[0]-24+1, shape[1]-20+1)\n",
    "fig, ax = plt.subplots(1,1)\n",
    "\n",
    "#ax.imshow(mri_data[:,:,slice_num2],cmap=plt.cm.gray)\n",
    "#ax.imshow(np.ma.masked_where(labelled_data[:,:,slice_num2]==0, labelled_data[:,:,slice_num2]),alpha=.7,cmap=plt.cm.autumn, interpolation='none')\n",
    "ax.imshow(np.ma.masked_where(new_data==0, new_data))"
   ]
  },
  {
   "cell_type": "code",
   "execution_count": 10,
   "metadata": {
    "collapsed": false
   },
   "outputs": [
    {
     "data": {
      "text/plain": [
       "0.0"
      ]
     },
     "execution_count": 10,
     "metadata": {},
     "output_type": "execute_result"
    }
   ],
   "source": [
    "np.sum(predict[:,0])"
   ]
  },
  {
   "cell_type": "markdown",
   "metadata": {},
   "source": [
    "///////////////////////////////////////"
   ]
  },
  {
   "cell_type": "code",
   "execution_count": 3,
   "metadata": {
    "collapsed": false
   },
   "outputs": [],
   "source": [
    "def scale(array):\n",
    "    return (array-np.min(array))/(np.max(array) - np.min(array))"
   ]
  },
  {
   "cell_type": "code",
   "execution_count": 4,
   "metadata": {
    "collapsed": false
   },
   "outputs": [],
   "source": [
    "slice = data[100,:,:]\n",
    "x,y = np.meshgrid(np.arange(slice.shape[0]),np.arange(slice.shape[1]))\n",
    "x = scale(x.reshape(x.size,1))\n",
    "y = scale(y.reshape(y.size,1))\n",
    "slice = scale(slice.reshape(slice.size,1)) \n",
    "X = np.column_stack((x,y,slice)).astype('float32')\n",
    "X.shape"
   ]
  },
  {
   "cell_type": "code",
   "execution_count": 5,
   "metadata": {
    "collapsed": false
   },
   "outputs": [
    {
     "ename": "MemoryError",
     "evalue": "",
     "output_type": "error",
     "traceback": [
      "\u001b[1;31m---------------------------------------------------------------------------\u001b[0m",
      "\u001b[1;31mMemoryError\u001b[0m                               Traceback (most recent call last)",
      "\u001b[1;32m<ipython-input-5-7f3e0c1bae61>\u001b[0m in \u001b[0;36m<module>\u001b[1;34m()\u001b[0m\n\u001b[1;32m----> 1\u001b[1;33m \u001b[0mpairwise_dists\u001b[0m \u001b[1;33m=\u001b[0m \u001b[0msquareform\u001b[0m\u001b[1;33m(\u001b[0m\u001b[0mpdist\u001b[0m\u001b[1;33m(\u001b[0m\u001b[0mX\u001b[0m\u001b[1;33m,\u001b[0m \u001b[1;34m'euclidean'\u001b[0m\u001b[1;33m)\u001b[0m\u001b[1;33m)\u001b[0m\u001b[1;33m\u001b[0m\u001b[0m\n\u001b[0m\u001b[0;32m      2\u001b[0m \u001b[1;32mprint\u001b[0m \u001b[0mpairwise_dists\u001b[0m\u001b[1;33m.\u001b[0m\u001b[0msize\u001b[0m\u001b[1;33m\u001b[0m\u001b[0m\n\u001b[0;32m      3\u001b[0m \u001b[1;33m\u001b[0m\u001b[0m\n\u001b[0;32m      4\u001b[0m \u001b[0ms\u001b[0m \u001b[1;33m=\u001b[0m \u001b[1;36m1.5\u001b[0m\u001b[1;33m\u001b[0m\u001b[0m\n\u001b[0;32m      5\u001b[0m \u001b[0mK\u001b[0m \u001b[1;33m=\u001b[0m \u001b[0mnp\u001b[0m\u001b[1;33m.\u001b[0m\u001b[0mexp\u001b[0m\u001b[1;33m(\u001b[0m\u001b[0mnp\u001b[0m\u001b[1;33m.\u001b[0m\u001b[0msquare\u001b[0m\u001b[1;33m(\u001b[0m\u001b[0mpairwise_dists\u001b[0m\u001b[1;33m)\u001b[0m\u001b[1;33m)\u001b[0m\u001b[1;33m.\u001b[0m\u001b[0mreshape\u001b[0m\u001b[1;33m\u001b[0m\u001b[0m\n",
      "\u001b[1;32m/usr/lib/python2.7/dist-packages/scipy/spatial/distance.pyc\u001b[0m in \u001b[0;36msquareform\u001b[1;34m(X, force, checks)\u001b[0m\n\u001b[0;32m   1465\u001b[0m \u001b[1;33m\u001b[0m\u001b[0m\n\u001b[0;32m   1466\u001b[0m         \u001b[1;31m# Return the distance matrix.\u001b[0m\u001b[1;33m\u001b[0m\u001b[1;33m\u001b[0m\u001b[0m\n\u001b[1;32m-> 1467\u001b[1;33m         \u001b[0mM\u001b[0m \u001b[1;33m=\u001b[0m \u001b[0mM\u001b[0m \u001b[1;33m+\u001b[0m \u001b[0mM\u001b[0m\u001b[1;33m.\u001b[0m\u001b[0mtranspose\u001b[0m\u001b[1;33m(\u001b[0m\u001b[1;33m)\u001b[0m\u001b[1;33m\u001b[0m\u001b[0m\n\u001b[0m\u001b[0;32m   1468\u001b[0m         \u001b[1;32mreturn\u001b[0m \u001b[0mM\u001b[0m\u001b[1;33m\u001b[0m\u001b[0m\n\u001b[0;32m   1469\u001b[0m     \u001b[1;32melif\u001b[0m \u001b[0mlen\u001b[0m\u001b[1;33m(\u001b[0m\u001b[0ms\u001b[0m\u001b[1;33m)\u001b[0m \u001b[1;33m==\u001b[0m \u001b[1;36m2\u001b[0m\u001b[1;33m:\u001b[0m\u001b[1;33m\u001b[0m\u001b[0m\n",
      "\u001b[1;31mMemoryError\u001b[0m: "
     ]
    }
   ],
   "source": [
    "pairwise_dists = squareform(pdist(X, 'euclidean'))\n",
    "print pairwise_dists.size\n",
    "\n",
    "s = 1.5\n",
    "K = np.exp(np.square(pairwise_dists)).reshape"
   ]
  },
  {
   "cell_type": "code",
   "execution_count": 7,
   "metadata": {
    "collapsed": false
   },
   "outputs": [],
   "source": [
    "test = np.array([[1,2],[3,4]])\n",
    "np.sum(test,axis=)"
   ]
  },
  {
   "cell_type": "code",
   "execution_count": 14,
   "metadata": {
    "collapsed": false
   },
   "outputs": [
    {
     "data": {
      "text/plain": [
       "array([ 0.00569339,  0.108043  ,  0.38101912, ...,  0.        ,\n",
       "        2.        ,  2.        ])"
      ]
     },
     "execution_count": 14,
     "metadata": {},
     "output_type": "execute_result"
    }
   ],
   "source": [
    "pairwise_dists"
   ]
  },
  {
   "cell_type": "code",
   "execution_count": 22,
   "metadata": {
    "collapsed": false
   },
   "outputs": [
    {
     "data": {
      "text/plain": [
       "3457"
      ]
     },
     "execution_count": 22,
     "metadata": {},
     "output_type": "execute_result"
    }
   ],
   "source": [
    "np.sum(labelled_data[slice_num,:,:])"
   ]
  },
  {
   "cell_type": "markdown",
   "metadata": {
    "collapsed": true
   },
   "source": [
    "## References\n",
    "### Diffusion Maps\n",
    "https://www.stat.cmu.edu/~cshalizi/350/lectures/15/lecture-15.pdf\n",
    "https://en.wikipedia.org/wiki/Diffusion_map\n",
    "http://stats.stackexchange.com/questions/15798/how-to-calculate-a-gaussian-kernel-effectively-in-numpy\n",
    "\n",
    "https://arxiv.org/pdf/1506.07840.pdf"
   ]
  }
 ],
 "metadata": {
  "kernelspec": {
   "display_name": "Python 2",
   "language": "python",
   "name": "python2"
  },
  "language_info": {
   "codemirror_mode": {
    "name": "ipython",
    "version": 2
   },
   "file_extension": ".py",
   "mimetype": "text/x-python",
   "name": "python",
   "nbconvert_exporter": "python",
   "pygments_lexer": "ipython2",
   "version": "2.7.6"
  }
 },
 "nbformat": 4,
 "nbformat_minor": 0
}
