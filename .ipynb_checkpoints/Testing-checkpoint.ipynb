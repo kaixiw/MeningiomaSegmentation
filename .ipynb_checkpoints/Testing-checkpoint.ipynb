{
 "cells": [
  {
   "cell_type": "code",
   "execution_count": 46,
   "metadata": {
    "collapsed": false
   },
   "outputs": [],
   "source": [
    "%matplotlib inline\n",
    "import os\n",
    "import numpy as np\n",
    "import nibabel as nib"
   ]
  },
  {
   "cell_type": "code",
   "execution_count": 5,
   "metadata": {
    "collapsed": true
   },
   "outputs": [],
   "source": [
    "filename = 'case_001_2.nii.gz'"
   ]
  },
  {
   "cell_type": "code",
   "execution_count": 7,
   "metadata": {
    "collapsed": true
   },
   "outputs": [],
   "source": [
    "img = nib.load(filename)"
   ]
  },
  {
   "cell_type": "code",
   "execution_count": 9,
   "metadata": {
    "collapsed": false
   },
   "outputs": [
    {
     "data": {
      "text/plain": [
       "(288, 320, 33)"
      ]
     },
     "execution_count": 9,
     "metadata": {},
     "output_type": "execute_result"
    }
   ],
   "source": [
    "img.shape"
   ]
  },
  {
   "cell_type": "code",
   "execution_count": 10,
   "metadata": {
    "collapsed": false
   },
   "outputs": [
    {
     "data": {
      "text/plain": [
       "dtype('<i2')"
      ]
     },
     "execution_count": 10,
     "metadata": {},
     "output_type": "execute_result"
    }
   ],
   "source": [
    "img.get_data_dtype()"
   ]
  },
  {
   "cell_type": "code",
   "execution_count": 11,
   "metadata": {
    "collapsed": true
   },
   "outputs": [],
   "source": [
    "data = img.get_data()"
   ]
  },
  {
   "cell_type": "code",
   "execution_count": 14,
   "metadata": {
    "collapsed": false
   },
   "outputs": [],
   "source": [
    "hdr = img.header"
   ]
  },
  {
   "cell_type": "code",
   "execution_count": 17,
   "metadata": {
    "collapsed": false
   },
   "outputs": [
    {
     "data": {
      "text/plain": [
       "('mm', 'sec')"
      ]
     },
     "execution_count": 17,
     "metadata": {},
     "output_type": "execute_result"
    }
   ],
   "source": [
    "hdr.get_xyzt_units()"
   ]
  },
  {
   "cell_type": "code",
   "execution_count": 18,
   "metadata": {
    "collapsed": false
   },
   "outputs": [
    {
     "data": {
      "text/plain": [
       "(288, 320, 33)"
      ]
     },
     "execution_count": 18,
     "metadata": {},
     "output_type": "execute_result"
    }
   ],
   "source": [
    "data.shape"
   ]
  },
  {
   "cell_type": "code",
   "execution_count": 19,
   "metadata": {
    "collapsed": false
   },
   "outputs": [
    {
     "data": {
      "text/plain": [
       "0.0"
      ]
     },
     "execution_count": 19,
     "metadata": {},
     "output_type": "execute_result"
    }
   ],
   "source": [
    "data[0,0,0]"
   ]
  },
  {
   "cell_type": "code",
   "execution_count": 20,
   "metadata": {
    "collapsed": false
   },
   "outputs": [
    {
     "ename": "NameError",
     "evalue": "name 'dataa' is not defined",
     "output_type": "error",
     "traceback": [
      "\u001b[1;31m---------------------------------------------------------------------------\u001b[0m",
      "\u001b[1;31mNameError\u001b[0m                                 Traceback (most recent call last)",
      "\u001b[1;32m<ipython-input-20-7b213e5d5da8>\u001b[0m in \u001b[0;36m<module>\u001b[1;34m()\u001b[0m\n\u001b[1;32m----> 1\u001b[1;33m \u001b[0mdataa\u001b[0m\u001b[1;33m\u001b[0m\u001b[0m\n\u001b[0m",
      "\u001b[1;31mNameError\u001b[0m: name 'dataa' is not defined"
     ]
    }
   ],
   "source": [
    "dataa"
   ]
  },
  {
   "cell_type": "code",
   "execution_count": 21,
   "metadata": {
    "collapsed": false
   },
   "outputs": [
    {
     "data": {
      "text/plain": [
       "array([[[   0.        ,    0.        ,    0.        , ...,    0.        ,\n",
       "            0.        ,    0.        ],\n",
       "        [   0.        ,    0.        ,    0.        , ...,    0.        ,\n",
       "            0.        ,    0.        ],\n",
       "        [   0.        ,    0.        ,    0.        , ...,    0.        ,\n",
       "            0.        ,    0.        ],\n",
       "        ..., \n",
       "        [   0.        ,    0.        ,    0.        , ...,    0.        ,\n",
       "            0.        ,    0.        ],\n",
       "        [   0.        ,    0.        ,    0.        , ...,    0.        ,\n",
       "            0.        ,    0.        ],\n",
       "        [   0.        ,    0.        ,    0.        , ...,    0.        ,\n",
       "            0.        ,    0.        ]],\n",
       "\n",
       "       [[  85.98623461,   82.98295398,   23.98004071, ...,    9.00984189,\n",
       "           17.00318879,   27.99981632],\n",
       "        [  74.01931641,   93.97958151,   43.98651013, ...,   18.01968377,\n",
       "           32.01959193,   15.98669381],\n",
       "        [  35.02287256,   93.00929085,   55.99963264, ...,    9.00984189,\n",
       "           23.00975005,   10.99662753],\n",
       "        ..., \n",
       "        [   0.        ,    0.        ,    0.        , ...,   21.0229644 ,\n",
       "            7.9933469 ,    7.02305624],\n",
       "        [   0.        ,    0.        ,    0.        , ...,    3.00328063,\n",
       "           18.01968377,    4.01977561],\n",
       "        [   0.        ,    0.        ,    0.        , ...,    0.        ,\n",
       "            0.        ,    0.        ]],\n",
       "\n",
       "       [[  65.00947453,  214.01839802,   37.00965821, ...,   15.01640314,\n",
       "           21.0229644 ,   13.99990816],\n",
       "        [  69.9995408 ,  180.01202044,   51.00956637, ...,   12.98341318,\n",
       "           23.00975005,   10.99662753],\n",
       "        [  26.01303067,  150.99570914,   65.00947453, ...,   18.01968377,\n",
       "            6.00656126,    7.9933469 ],\n",
       "        ..., \n",
       "        [   0.        ,    0.        ,    0.        , ...,   13.99990816,\n",
       "           13.99990816,    6.00656126],\n",
       "        [   0.        ,    0.        ,    0.        , ...,    9.00984189,\n",
       "           23.98004071,   31.00309695],\n",
       "        [   0.        ,    0.        ,    0.        , ...,    0.        ,\n",
       "            0.        ,    0.        ]],\n",
       "\n",
       "       ..., \n",
       "       [[  52.99635201,  166.98240294,    6.00656126, ...,    9.98013255,\n",
       "            0.        ,    0.        ],\n",
       "        [  17.00318879,  105.99270403,   21.99325506, ...,   23.00975005,\n",
       "            0.        ,    0.        ],\n",
       "        [  34.00637758,   74.01931641,   46.01950009, ...,   12.01312251,\n",
       "           23.00975005,    0.        ],\n",
       "        ..., \n",
       "        [   0.        ,    0.        ,    0.        , ...,   13.99990816,\n",
       "            4.99006628,   21.0229644 ],\n",
       "        [   0.        ,    0.        ,    0.        , ...,    9.98013255,\n",
       "           10.99662753,    4.99006628],\n",
       "        [   0.        ,    0.        ,    0.        , ...,    0.        ,\n",
       "            0.        ,    0.        ]],\n",
       "\n",
       "       [[ 125.99917344,  304.9946989 ,   29.0163113 , ...,    0.        ,\n",
       "            0.        ,    0.        ],\n",
       "        [ 127.98595909,  209.99862241,   82.01266332, ...,    0.        ,\n",
       "            0.        ,    0.        ],\n",
       "        [  48.00628574,  177.97903048,   74.98960708, ...,    0.        ,\n",
       "            0.        ,    0.        ],\n",
       "        ..., \n",
       "        [   0.        ,    0.        ,    0.        , ...,   18.98997444,\n",
       "            6.00656126,    7.02305624],\n",
       "        [   0.        ,    0.        ,    0.        , ...,   13.99990816,\n",
       "           12.98341318,   21.0229644 ],\n",
       "        [   0.        ,    0.        ,    0.        , ...,    0.        ,\n",
       "            0.        ,    0.        ]],\n",
       "\n",
       "       [[  68.01275516,  309.98476518,   27.99981632, ...,    0.        ,\n",
       "            0.        ,    0.        ],\n",
       "        [  62.0061939 ,  183.01530107,   51.97985703, ...,    0.        ,\n",
       "            0.        ,    0.        ],\n",
       "        [  40.01293883,  135.00901533,   46.01950009, ...,    0.        ,\n",
       "            0.        ,    0.        ],\n",
       "        ..., \n",
       "        [   0.        ,    0.        ,    0.        , ...,   37.00965821,\n",
       "            9.00984189,   23.00975005],\n",
       "        [   0.        ,    0.        ,    0.        , ...,    1.98678565,\n",
       "           18.01968377,   10.99662753],\n",
       "        [   0.        ,    0.        ,    0.        , ...,    0.        ,\n",
       "            0.        ,    0.        ]]])"
      ]
     },
     "execution_count": 21,
     "metadata": {},
     "output_type": "execute_result"
    }
   ],
   "source": [
    "data"
   ]
  },
  {
   "cell_type": "code",
   "execution_count": 22,
   "metadata": {
    "collapsed": false
   },
   "outputs": [
    {
     "data": {
      "text/plain": [
       "array([[ 0.,  0.,  0., ...,  0.,  0.,  0.],\n",
       "       [ 0.,  0.,  0., ...,  0.,  0.,  0.],\n",
       "       [ 0.,  0.,  0., ...,  0.,  0.,  0.],\n",
       "       ..., \n",
       "       [ 0.,  0.,  0., ...,  0.,  0.,  0.],\n",
       "       [ 0.,  0.,  0., ...,  0.,  0.,  0.],\n",
       "       [ 0.,  0.,  0., ...,  0.,  0.,  0.]])"
      ]
     },
     "execution_count": 22,
     "metadata": {},
     "output_type": "execute_result"
    }
   ],
   "source": [
    "data[0]"
   ]
  },
  {
   "cell_type": "code",
   "execution_count": 38,
   "metadata": {
    "collapsed": false
   },
   "outputs": [],
   "source": [
    "import matplotlib.pyplot as plt\n",
    "def show_slices(slices):\n",
    "    \"\"\" Function to display row of image slices \"\"\"\n",
    "    fig, axes = plt.subplots(1, len(slices))\n",
    "    for i, slice in enumerate(slices):\n",
    "        axes[i].imshow(slice.T, cmap=\"gray\", origin=\"lower\")\n",
    "def get_slices(data, percent):\n",
    "    \"\"\" Function to get the corresponding slices \"\"\"\n",
    "    if(percent==1): percent=.99\n",
    "    shape = data.shape\n",
    "    slices = [data[int(shape[0]*percent),:,:],\n",
    "             data[:,int(shape[1]*percent),:],\n",
    "             data[:,:,int(shape[2]*percent)]]     \n",
    "    return slices"
   ]
  },
  {
   "cell_type": "code",
   "execution_count": 39,
   "metadata": {
    "collapsed": false
   },
   "outputs": [
    {
     "data": {
      "text/plain": [
       "(320, 33)"
      ]
     },
     "execution_count": 39,
     "metadata": {},
     "output_type": "execute_result"
    }
   ],
   "source": [
    "data[0,:,:].shape"
   ]
  },
  {
   "cell_type": "code",
   "execution_count": 95,
   "metadata": {
    "collapsed": false
   },
   "outputs": [
    {
     "data": {
      "text/plain": [
       "<matplotlib.image.AxesImage at 0x7f1c1d3a26d0>"
      ]
     },
     "execution_count": 95,
     "metadata": {},
     "output_type": "execute_result"
    },
    {
     "data": {
      "image/png": "[encoded data removed]",
      "text/plain": [
       "<matplotlib.figure.Figure at 0x7f1c1d481f10>"
      ]
     },
     "metadata": {},
     "output_type": "display_data"
    }
   ],
   "source": [
    "plt.show()\n",
    "fig = plt.figure(figsize = (10,10))\n",
    "sp = fig.add_subplot(111)\n",
    "sp.set_aspect('auto')\n",
    "sp.imshow(data[100,:,:].T,cmap=\"gray\", origin=\"lower\")"
   ]
  },
  {
   "cell_type": "code",
   "execution_count": 63,
   "metadata": {
    "collapsed": false
   },
   "outputs": [
    {
     "ename": "NameError",
     "evalue": "name 'derp' is not defined",
     "output_type": "error",
     "traceback": [
      "\u001b[1;31m---------------------------------------------------------------------------\u001b[0m",
      "\u001b[1;31mNameError\u001b[0m                                 Traceback (most recent call last)",
      "\u001b[1;32m<ipython-input-63-b2c3e3176829>\u001b[0m in \u001b[0;36m<module>\u001b[1;34m()\u001b[0m\n\u001b[1;32m----> 1\u001b[1;33m \u001b[0mderp\u001b[0m\u001b[1;33m\u001b[0m\u001b[0m\n\u001b[0m",
      "\u001b[1;31mNameError\u001b[0m: name 'derp' is not defined"
     ]
    }
   ],
   "source": [
    "derp"
   ]
  }
 ],
 "metadata": {
  "kernelspec": {
   "display_name": "Python 2",
   "language": "python",
   "name": "python2"
  },
  "language_info": {
   "codemirror_mode": {
    "name": "ipython",
    "version": 2
   },
   "file_extension": ".py",
   "mimetype": "text/x-python",
   "name": "python",
   "nbconvert_exporter": "python",
   "pygments_lexer": "ipython2",
   "version": "2.7.6"
  }
 },
 "nbformat": 4,
 "nbformat_minor": 0
}
